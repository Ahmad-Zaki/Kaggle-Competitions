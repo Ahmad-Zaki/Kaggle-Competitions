{
 "cells": [
  {
   "cell_type": "markdown",
   "id": "88c57c1a",
   "metadata": {
    "papermill": {
     "duration": 0.034579,
     "end_time": "2021-09-26T14:44:03.550232",
     "exception": false,
     "start_time": "2021-09-26T14:44:03.515653",
     "status": "completed"
    },
    "tags": []
   },
   "source": [
    "## **Importing Libraries**"
   ]
  },
  {
   "cell_type": "code",
   "execution_count": 1,
   "id": "cda2542b",
   "metadata": {
    "execution": {
     "iopub.execute_input": "2021-09-26T14:44:03.625934Z",
     "iopub.status.busy": "2021-09-26T14:44:03.625277Z",
     "iopub.status.idle": "2021-09-26T14:44:04.866994Z",
     "shell.execute_reply": "2021-09-26T14:44:04.866364Z",
     "shell.execute_reply.started": "2021-09-26T13:45:31.284274Z"
    },
    "papermill": {
     "duration": 1.285564,
     "end_time": "2021-09-26T14:44:04.867182",
     "exception": false,
     "start_time": "2021-09-26T14:44:03.581618",
     "status": "completed"
    },
    "tags": []
   },
   "outputs": [],
   "source": [
    "import numpy as np\n",
    "import pandas as pd\n",
    "import matplotlib.pyplot as plt\n",
    "import seaborn as sns\n",
    "\n",
    "from sklearn.metrics import plot_confusion_matrix, classification_report, f1_score\n",
    "from sklearn.model_selection import train_test_split ,GridSearchCV, cross_val_score\n",
    "from sklearn.preprocessing import StandardScaler\n",
    "\n",
    "#Classification Models:\n",
    "from sklearn.linear_model import LogisticRegression\n",
    "from sklearn.neighbors import KNeighborsClassifier\n",
    "from sklearn.svm import SVC\n",
    "from sklearn.tree import DecisionTreeClassifier\n",
    "from sklearn.ensemble import RandomForestClassifier, VotingClassifier, StackingClassifier\n",
    "from xgboost import XGBClassifier\n",
    "\n",
    "#Supress Warnings:\n",
    "import warnings\n",
    "warnings.filterwarnings('ignore')"
   ]
  },
  {
   "cell_type": "markdown",
   "id": "67612324",
   "metadata": {
    "papermill": {
     "duration": 0.030664,
     "end_time": "2021-09-26T14:44:04.930691",
     "exception": false,
     "start_time": "2021-09-26T14:44:04.900027",
     "status": "completed"
    },
    "tags": []
   },
   "source": [
    "## **Load training and test sets**"
   ]
  },
  {
   "cell_type": "code",
   "execution_count": 2,
   "id": "7b50274c",
   "metadata": {
    "execution": {
     "iopub.execute_input": "2021-09-26T14:44:04.998533Z",
     "iopub.status.busy": "2021-09-26T14:44:04.997662Z",
     "iopub.status.idle": "2021-09-26T14:44:05.058837Z",
     "shell.execute_reply": "2021-09-26T14:44:05.058109Z",
     "shell.execute_reply.started": "2021-09-26T14:24:19.555400Z"
    },
    "papermill": {
     "duration": 0.097419,
     "end_time": "2021-09-26T14:44:05.059021",
     "exception": false,
     "start_time": "2021-09-26T14:44:04.961602",
     "status": "completed"
    },
    "tags": []
   },
   "outputs": [
    {
     "data": {
      "text/html": [
       "<div>\n",
       "<style scoped>\n",
       "    .dataframe tbody tr th:only-of-type {\n",
       "        vertical-align: middle;\n",
       "    }\n",
       "\n",
       "    .dataframe tbody tr th {\n",
       "        vertical-align: top;\n",
       "    }\n",
       "\n",
       "    .dataframe thead th {\n",
       "        text-align: right;\n",
       "    }\n",
       "</style>\n",
       "<table border=\"1\" class=\"dataframe\">\n",
       "  <thead>\n",
       "    <tr style=\"text-align: right;\">\n",
       "      <th></th>\n",
       "      <th>Survived</th>\n",
       "      <th>Pclass</th>\n",
       "      <th>Name</th>\n",
       "      <th>Sex</th>\n",
       "      <th>Age</th>\n",
       "      <th>SibSp</th>\n",
       "      <th>Parch</th>\n",
       "      <th>Ticket</th>\n",
       "      <th>Fare</th>\n",
       "      <th>Cabin</th>\n",
       "      <th>Embarked</th>\n",
       "    </tr>\n",
       "    <tr>\n",
       "      <th>PassengerId</th>\n",
       "      <th></th>\n",
       "      <th></th>\n",
       "      <th></th>\n",
       "      <th></th>\n",
       "      <th></th>\n",
       "      <th></th>\n",
       "      <th></th>\n",
       "      <th></th>\n",
       "      <th></th>\n",
       "      <th></th>\n",
       "      <th></th>\n",
       "    </tr>\n",
       "  </thead>\n",
       "  <tbody>\n",
       "    <tr>\n",
       "      <th>1</th>\n",
       "      <td>0</td>\n",
       "      <td>3</td>\n",
       "      <td>Braund, Mr. Owen Harris</td>\n",
       "      <td>male</td>\n",
       "      <td>22.0</td>\n",
       "      <td>1</td>\n",
       "      <td>0</td>\n",
       "      <td>A/5 21171</td>\n",
       "      <td>7.2500</td>\n",
       "      <td>NaN</td>\n",
       "      <td>S</td>\n",
       "    </tr>\n",
       "    <tr>\n",
       "      <th>2</th>\n",
       "      <td>1</td>\n",
       "      <td>1</td>\n",
       "      <td>Cumings, Mrs. John Bradley (Florence Briggs Th...</td>\n",
       "      <td>female</td>\n",
       "      <td>38.0</td>\n",
       "      <td>1</td>\n",
       "      <td>0</td>\n",
       "      <td>PC 17599</td>\n",
       "      <td>71.2833</td>\n",
       "      <td>C85</td>\n",
       "      <td>C</td>\n",
       "    </tr>\n",
       "    <tr>\n",
       "      <th>3</th>\n",
       "      <td>1</td>\n",
       "      <td>3</td>\n",
       "      <td>Heikkinen, Miss. Laina</td>\n",
       "      <td>female</td>\n",
       "      <td>26.0</td>\n",
       "      <td>0</td>\n",
       "      <td>0</td>\n",
       "      <td>STON/O2. 3101282</td>\n",
       "      <td>7.9250</td>\n",
       "      <td>NaN</td>\n",
       "      <td>S</td>\n",
       "    </tr>\n",
       "    <tr>\n",
       "      <th>4</th>\n",
       "      <td>1</td>\n",
       "      <td>1</td>\n",
       "      <td>Futrelle, Mrs. Jacques Heath (Lily May Peel)</td>\n",
       "      <td>female</td>\n",
       "      <td>35.0</td>\n",
       "      <td>1</td>\n",
       "      <td>0</td>\n",
       "      <td>113803</td>\n",
       "      <td>53.1000</td>\n",
       "      <td>C123</td>\n",
       "      <td>S</td>\n",
       "    </tr>\n",
       "    <tr>\n",
       "      <th>5</th>\n",
       "      <td>0</td>\n",
       "      <td>3</td>\n",
       "      <td>Allen, Mr. William Henry</td>\n",
       "      <td>male</td>\n",
       "      <td>35.0</td>\n",
       "      <td>0</td>\n",
       "      <td>0</td>\n",
       "      <td>373450</td>\n",
       "      <td>8.0500</td>\n",
       "      <td>NaN</td>\n",
       "      <td>S</td>\n",
       "    </tr>\n",
       "  </tbody>\n",
       "</table>\n",
       "</div>"
      ],
      "text/plain": [
       "             Survived  Pclass  \\\n",
       "PassengerId                     \n",
       "1                   0       3   \n",
       "2                   1       1   \n",
       "3                   1       3   \n",
       "4                   1       1   \n",
       "5                   0       3   \n",
       "\n",
       "                                                          Name     Sex   Age  \\\n",
       "PassengerId                                                                    \n",
       "1                                      Braund, Mr. Owen Harris    male  22.0   \n",
       "2            Cumings, Mrs. John Bradley (Florence Briggs Th...  female  38.0   \n",
       "3                                       Heikkinen, Miss. Laina  female  26.0   \n",
       "4                 Futrelle, Mrs. Jacques Heath (Lily May Peel)  female  35.0   \n",
       "5                                     Allen, Mr. William Henry    male  35.0   \n",
       "\n",
       "             SibSp  Parch            Ticket     Fare Cabin Embarked  \n",
       "PassengerId                                                          \n",
       "1                1      0         A/5 21171   7.2500   NaN        S  \n",
       "2                1      0          PC 17599  71.2833   C85        C  \n",
       "3                0      0  STON/O2. 3101282   7.9250   NaN        S  \n",
       "4                1      0            113803  53.1000  C123        S  \n",
       "5                0      0            373450   8.0500   NaN        S  "
      ]
     },
     "execution_count": 2,
     "metadata": {},
     "output_type": "execute_result"
    }
   ],
   "source": [
    "train_df = pd.read_csv('/kaggle/input/titanic/train.csv')\n",
    "test_df = pd.read_csv('/kaggle/input/titanic/test.csv')\n",
    "train_df = train_df.set_index(\"PassengerId\")\n",
    "train_df.head()"
   ]
  },
  {
   "cell_type": "markdown",
   "id": "2955f30a",
   "metadata": {
    "papermill": {
     "duration": 0.044045,
     "end_time": "2021-09-26T14:44:05.141913",
     "exception": false,
     "start_time": "2021-09-26T14:44:05.097868",
     "status": "completed"
    },
    "tags": []
   },
   "source": [
    "## **Exploratory Data Analysis**"
   ]
  },
  {
   "cell_type": "code",
   "execution_count": 3,
   "id": "0abdfdb2",
   "metadata": {
    "execution": {
     "iopub.execute_input": "2021-09-26T14:44:05.210368Z",
     "iopub.status.busy": "2021-09-26T14:44:05.209724Z",
     "iopub.status.idle": "2021-09-26T14:44:05.227911Z",
     "shell.execute_reply": "2021-09-26T14:44:05.228450Z",
     "shell.execute_reply.started": "2021-09-26T13:45:32.995309Z"
    },
    "papermill": {
     "duration": 0.054034,
     "end_time": "2021-09-26T14:44:05.228618",
     "exception": false,
     "start_time": "2021-09-26T14:44:05.174584",
     "status": "completed"
    },
    "tags": []
   },
   "outputs": [
    {
     "name": "stdout",
     "output_type": "stream",
     "text": [
      "<class 'pandas.core.frame.DataFrame'>\n",
      "Int64Index: 891 entries, 1 to 891\n",
      "Data columns (total 11 columns):\n",
      " #   Column    Non-Null Count  Dtype  \n",
      "---  ------    --------------  -----  \n",
      " 0   Survived  891 non-null    int64  \n",
      " 1   Pclass    891 non-null    int64  \n",
      " 2   Name      891 non-null    object \n",
      " 3   Sex       891 non-null    object \n",
      " 4   Age       714 non-null    float64\n",
      " 5   SibSp     891 non-null    int64  \n",
      " 6   Parch     891 non-null    int64  \n",
      " 7   Ticket    891 non-null    object \n",
      " 8   Fare      891 non-null    float64\n",
      " 9   Cabin     204 non-null    object \n",
      " 10  Embarked  889 non-null    object \n",
      "dtypes: float64(2), int64(4), object(5)\n",
      "memory usage: 83.5+ KB\n"
     ]
    }
   ],
   "source": [
    "#General Info:\n",
    "train_df.info()"
   ]
  },
  {
   "cell_type": "code",
   "execution_count": 4,
   "id": "a2c728ee",
   "metadata": {
    "execution": {
     "iopub.execute_input": "2021-09-26T14:44:05.296629Z",
     "iopub.status.busy": "2021-09-26T14:44:05.295974Z",
     "iopub.status.idle": "2021-09-26T14:44:05.326054Z",
     "shell.execute_reply": "2021-09-26T14:44:05.326499Z",
     "shell.execute_reply.started": "2021-09-26T13:45:33.394186Z"
    },
    "papermill": {
     "duration": 0.065845,
     "end_time": "2021-09-26T14:44:05.326691",
     "exception": false,
     "start_time": "2021-09-26T14:44:05.260846",
     "status": "completed"
    },
    "tags": []
   },
   "outputs": [
    {
     "data": {
      "text/html": [
       "<div>\n",
       "<style scoped>\n",
       "    .dataframe tbody tr th:only-of-type {\n",
       "        vertical-align: middle;\n",
       "    }\n",
       "\n",
       "    .dataframe tbody tr th {\n",
       "        vertical-align: top;\n",
       "    }\n",
       "\n",
       "    .dataframe thead th {\n",
       "        text-align: right;\n",
       "    }\n",
       "</style>\n",
       "<table border=\"1\" class=\"dataframe\">\n",
       "  <thead>\n",
       "    <tr style=\"text-align: right;\">\n",
       "      <th></th>\n",
       "      <th>count</th>\n",
       "      <th>mean</th>\n",
       "      <th>std</th>\n",
       "      <th>min</th>\n",
       "      <th>25%</th>\n",
       "      <th>50%</th>\n",
       "      <th>75%</th>\n",
       "      <th>max</th>\n",
       "    </tr>\n",
       "  </thead>\n",
       "  <tbody>\n",
       "    <tr>\n",
       "      <th>Survived</th>\n",
       "      <td>891.0</td>\n",
       "      <td>0.383838</td>\n",
       "      <td>0.486592</td>\n",
       "      <td>0.00</td>\n",
       "      <td>0.0000</td>\n",
       "      <td>0.0000</td>\n",
       "      <td>1.0</td>\n",
       "      <td>1.0000</td>\n",
       "    </tr>\n",
       "    <tr>\n",
       "      <th>Pclass</th>\n",
       "      <td>891.0</td>\n",
       "      <td>2.308642</td>\n",
       "      <td>0.836071</td>\n",
       "      <td>1.00</td>\n",
       "      <td>2.0000</td>\n",
       "      <td>3.0000</td>\n",
       "      <td>3.0</td>\n",
       "      <td>3.0000</td>\n",
       "    </tr>\n",
       "    <tr>\n",
       "      <th>Age</th>\n",
       "      <td>714.0</td>\n",
       "      <td>29.699118</td>\n",
       "      <td>14.526497</td>\n",
       "      <td>0.42</td>\n",
       "      <td>20.1250</td>\n",
       "      <td>28.0000</td>\n",
       "      <td>38.0</td>\n",
       "      <td>80.0000</td>\n",
       "    </tr>\n",
       "    <tr>\n",
       "      <th>SibSp</th>\n",
       "      <td>891.0</td>\n",
       "      <td>0.523008</td>\n",
       "      <td>1.102743</td>\n",
       "      <td>0.00</td>\n",
       "      <td>0.0000</td>\n",
       "      <td>0.0000</td>\n",
       "      <td>1.0</td>\n",
       "      <td>8.0000</td>\n",
       "    </tr>\n",
       "    <tr>\n",
       "      <th>Parch</th>\n",
       "      <td>891.0</td>\n",
       "      <td>0.381594</td>\n",
       "      <td>0.806057</td>\n",
       "      <td>0.00</td>\n",
       "      <td>0.0000</td>\n",
       "      <td>0.0000</td>\n",
       "      <td>0.0</td>\n",
       "      <td>6.0000</td>\n",
       "    </tr>\n",
       "    <tr>\n",
       "      <th>Fare</th>\n",
       "      <td>891.0</td>\n",
       "      <td>32.204208</td>\n",
       "      <td>49.693429</td>\n",
       "      <td>0.00</td>\n",
       "      <td>7.9104</td>\n",
       "      <td>14.4542</td>\n",
       "      <td>31.0</td>\n",
       "      <td>512.3292</td>\n",
       "    </tr>\n",
       "  </tbody>\n",
       "</table>\n",
       "</div>"
      ],
      "text/plain": [
       "          count       mean        std   min      25%      50%   75%       max\n",
       "Survived  891.0   0.383838   0.486592  0.00   0.0000   0.0000   1.0    1.0000\n",
       "Pclass    891.0   2.308642   0.836071  1.00   2.0000   3.0000   3.0    3.0000\n",
       "Age       714.0  29.699118  14.526497  0.42  20.1250  28.0000  38.0   80.0000\n",
       "SibSp     891.0   0.523008   1.102743  0.00   0.0000   0.0000   1.0    8.0000\n",
       "Parch     891.0   0.381594   0.806057  0.00   0.0000   0.0000   0.0    6.0000\n",
       "Fare      891.0  32.204208  49.693429  0.00   7.9104  14.4542  31.0  512.3292"
      ]
     },
     "execution_count": 4,
     "metadata": {},
     "output_type": "execute_result"
    }
   ],
   "source": [
    "#Statistical Summary for Numerical Features:\n",
    "train_df.describe().T"
   ]
  },
  {
   "cell_type": "code",
   "execution_count": 5,
   "id": "13dff930",
   "metadata": {
    "execution": {
     "iopub.execute_input": "2021-09-26T14:44:05.400118Z",
     "iopub.status.busy": "2021-09-26T14:44:05.395225Z",
     "iopub.status.idle": "2021-09-26T14:44:05.403178Z",
     "shell.execute_reply": "2021-09-26T14:44:05.403636Z",
     "shell.execute_reply.started": "2021-09-26T13:45:33.672756Z"
    },
    "papermill": {
     "duration": 0.044061,
     "end_time": "2021-09-26T14:44:05.403802",
     "exception": false,
     "start_time": "2021-09-26T14:44:05.359741",
     "status": "completed"
    },
    "tags": []
   },
   "outputs": [
    {
     "data": {
      "text/plain": [
       "0"
      ]
     },
     "execution_count": 5,
     "metadata": {},
     "output_type": "execute_result"
    }
   ],
   "source": [
    "#Check for duplicate rows:\n",
    "train_df.duplicated(subset=\"Name\",keep=False).sum()"
   ]
  },
  {
   "cell_type": "markdown",
   "id": "03f43f0b",
   "metadata": {
    "papermill": {
     "duration": 0.032585,
     "end_time": "2021-09-26T14:44:05.469383",
     "exception": false,
     "start_time": "2021-09-26T14:44:05.436798",
     "status": "completed"
    },
    "tags": []
   },
   "source": [
    "- There are no duplicate names. Let's check for duplicates in Tickets:"
   ]
  },
  {
   "cell_type": "code",
   "execution_count": 6,
   "id": "d53aa28e",
   "metadata": {
    "execution": {
     "iopub.execute_input": "2021-09-26T14:44:05.557999Z",
     "iopub.status.busy": "2021-09-26T14:44:05.541242Z",
     "iopub.status.idle": "2021-09-26T14:44:05.562165Z",
     "shell.execute_reply": "2021-09-26T14:44:05.561669Z",
     "shell.execute_reply.started": "2021-09-26T13:45:34.414164Z"
    },
    "papermill": {
     "duration": 0.060341,
     "end_time": "2021-09-26T14:44:05.562316",
     "exception": false,
     "start_time": "2021-09-26T14:44:05.501975",
     "status": "completed"
    },
    "tags": []
   },
   "outputs": [
    {
     "data": {
      "text/html": [
       "<div>\n",
       "<style scoped>\n",
       "    .dataframe tbody tr th:only-of-type {\n",
       "        vertical-align: middle;\n",
       "    }\n",
       "\n",
       "    .dataframe tbody tr th {\n",
       "        vertical-align: top;\n",
       "    }\n",
       "\n",
       "    .dataframe thead th {\n",
       "        text-align: right;\n",
       "    }\n",
       "</style>\n",
       "<table border=\"1\" class=\"dataframe\">\n",
       "  <thead>\n",
       "    <tr style=\"text-align: right;\">\n",
       "      <th></th>\n",
       "      <th>Survived</th>\n",
       "      <th>Pclass</th>\n",
       "      <th>Name</th>\n",
       "      <th>Sex</th>\n",
       "      <th>Age</th>\n",
       "      <th>SibSp</th>\n",
       "      <th>Parch</th>\n",
       "      <th>Ticket</th>\n",
       "      <th>Fare</th>\n",
       "      <th>Cabin</th>\n",
       "      <th>Embarked</th>\n",
       "    </tr>\n",
       "    <tr>\n",
       "      <th>PassengerId</th>\n",
       "      <th></th>\n",
       "      <th></th>\n",
       "      <th></th>\n",
       "      <th></th>\n",
       "      <th></th>\n",
       "      <th></th>\n",
       "      <th></th>\n",
       "      <th></th>\n",
       "      <th></th>\n",
       "      <th></th>\n",
       "      <th></th>\n",
       "    </tr>\n",
       "  </thead>\n",
       "  <tbody>\n",
       "    <tr>\n",
       "      <th>258</th>\n",
       "      <td>1</td>\n",
       "      <td>1</td>\n",
       "      <td>Cherry, Miss. Gladys</td>\n",
       "      <td>female</td>\n",
       "      <td>30.0</td>\n",
       "      <td>0</td>\n",
       "      <td>0</td>\n",
       "      <td>110152</td>\n",
       "      <td>86.5000</td>\n",
       "      <td>B77</td>\n",
       "      <td>S</td>\n",
       "    </tr>\n",
       "    <tr>\n",
       "      <th>760</th>\n",
       "      <td>1</td>\n",
       "      <td>1</td>\n",
       "      <td>Rothes, the Countess. of (Lucy Noel Martha Dye...</td>\n",
       "      <td>female</td>\n",
       "      <td>33.0</td>\n",
       "      <td>0</td>\n",
       "      <td>0</td>\n",
       "      <td>110152</td>\n",
       "      <td>86.5000</td>\n",
       "      <td>B77</td>\n",
       "      <td>S</td>\n",
       "    </tr>\n",
       "    <tr>\n",
       "      <th>505</th>\n",
       "      <td>1</td>\n",
       "      <td>1</td>\n",
       "      <td>Maioni, Miss. Roberta</td>\n",
       "      <td>female</td>\n",
       "      <td>16.0</td>\n",
       "      <td>0</td>\n",
       "      <td>0</td>\n",
       "      <td>110152</td>\n",
       "      <td>86.5000</td>\n",
       "      <td>B79</td>\n",
       "      <td>S</td>\n",
       "    </tr>\n",
       "    <tr>\n",
       "      <th>263</th>\n",
       "      <td>0</td>\n",
       "      <td>1</td>\n",
       "      <td>Taussig, Mr. Emil</td>\n",
       "      <td>male</td>\n",
       "      <td>52.0</td>\n",
       "      <td>1</td>\n",
       "      <td>1</td>\n",
       "      <td>110413</td>\n",
       "      <td>79.6500</td>\n",
       "      <td>E67</td>\n",
       "      <td>S</td>\n",
       "    </tr>\n",
       "    <tr>\n",
       "      <th>559</th>\n",
       "      <td>1</td>\n",
       "      <td>1</td>\n",
       "      <td>Taussig, Mrs. Emil (Tillie Mandelbaum)</td>\n",
       "      <td>female</td>\n",
       "      <td>39.0</td>\n",
       "      <td>1</td>\n",
       "      <td>1</td>\n",
       "      <td>110413</td>\n",
       "      <td>79.6500</td>\n",
       "      <td>E67</td>\n",
       "      <td>S</td>\n",
       "    </tr>\n",
       "    <tr>\n",
       "      <th>586</th>\n",
       "      <td>1</td>\n",
       "      <td>1</td>\n",
       "      <td>Taussig, Miss. Ruth</td>\n",
       "      <td>female</td>\n",
       "      <td>18.0</td>\n",
       "      <td>0</td>\n",
       "      <td>2</td>\n",
       "      <td>110413</td>\n",
       "      <td>79.6500</td>\n",
       "      <td>E68</td>\n",
       "      <td>S</td>\n",
       "    </tr>\n",
       "    <tr>\n",
       "      <th>111</th>\n",
       "      <td>0</td>\n",
       "      <td>1</td>\n",
       "      <td>Porter, Mr. Walter Chamberlain</td>\n",
       "      <td>male</td>\n",
       "      <td>47.0</td>\n",
       "      <td>0</td>\n",
       "      <td>0</td>\n",
       "      <td>110465</td>\n",
       "      <td>52.0000</td>\n",
       "      <td>C110</td>\n",
       "      <td>S</td>\n",
       "    </tr>\n",
       "    <tr>\n",
       "      <th>476</th>\n",
       "      <td>0</td>\n",
       "      <td>1</td>\n",
       "      <td>Clifford, Mr. George Quincy</td>\n",
       "      <td>male</td>\n",
       "      <td>NaN</td>\n",
       "      <td>0</td>\n",
       "      <td>0</td>\n",
       "      <td>110465</td>\n",
       "      <td>52.0000</td>\n",
       "      <td>A14</td>\n",
       "      <td>S</td>\n",
       "    </tr>\n",
       "    <tr>\n",
       "      <th>524</th>\n",
       "      <td>1</td>\n",
       "      <td>1</td>\n",
       "      <td>Hippach, Mrs. Louis Albert (Ida Sophia Fischer)</td>\n",
       "      <td>female</td>\n",
       "      <td>44.0</td>\n",
       "      <td>0</td>\n",
       "      <td>1</td>\n",
       "      <td>111361</td>\n",
       "      <td>57.9792</td>\n",
       "      <td>B18</td>\n",
       "      <td>C</td>\n",
       "    </tr>\n",
       "    <tr>\n",
       "      <th>330</th>\n",
       "      <td>1</td>\n",
       "      <td>1</td>\n",
       "      <td>Hippach, Miss. Jean Gertrude</td>\n",
       "      <td>female</td>\n",
       "      <td>16.0</td>\n",
       "      <td>0</td>\n",
       "      <td>1</td>\n",
       "      <td>111361</td>\n",
       "      <td>57.9792</td>\n",
       "      <td>B18</td>\n",
       "      <td>C</td>\n",
       "    </tr>\n",
       "    <tr>\n",
       "      <th>167</th>\n",
       "      <td>1</td>\n",
       "      <td>1</td>\n",
       "      <td>Chibnall, Mrs. (Edith Martha Bowerman)</td>\n",
       "      <td>female</td>\n",
       "      <td>NaN</td>\n",
       "      <td>0</td>\n",
       "      <td>1</td>\n",
       "      <td>113505</td>\n",
       "      <td>55.0000</td>\n",
       "      <td>E33</td>\n",
       "      <td>S</td>\n",
       "    </tr>\n",
       "    <tr>\n",
       "      <th>357</th>\n",
       "      <td>1</td>\n",
       "      <td>1</td>\n",
       "      <td>Bowerman, Miss. Elsie Edith</td>\n",
       "      <td>female</td>\n",
       "      <td>22.0</td>\n",
       "      <td>0</td>\n",
       "      <td>1</td>\n",
       "      <td>113505</td>\n",
       "      <td>55.0000</td>\n",
       "      <td>E33</td>\n",
       "      <td>S</td>\n",
       "    </tr>\n",
       "    <tr>\n",
       "      <th>830</th>\n",
       "      <td>1</td>\n",
       "      <td>1</td>\n",
       "      <td>Stone, Mrs. George Nelson (Martha Evelyn)</td>\n",
       "      <td>female</td>\n",
       "      <td>62.0</td>\n",
       "      <td>0</td>\n",
       "      <td>0</td>\n",
       "      <td>113572</td>\n",
       "      <td>80.0000</td>\n",
       "      <td>B28</td>\n",
       "      <td>NaN</td>\n",
       "    </tr>\n",
       "    <tr>\n",
       "      <th>62</th>\n",
       "      <td>1</td>\n",
       "      <td>1</td>\n",
       "      <td>Icard, Miss. Amelie</td>\n",
       "      <td>female</td>\n",
       "      <td>38.0</td>\n",
       "      <td>0</td>\n",
       "      <td>0</td>\n",
       "      <td>113572</td>\n",
       "      <td>80.0000</td>\n",
       "      <td>B28</td>\n",
       "      <td>NaN</td>\n",
       "    </tr>\n",
       "    <tr>\n",
       "      <th>391</th>\n",
       "      <td>1</td>\n",
       "      <td>1</td>\n",
       "      <td>Carter, Mr. William Ernest</td>\n",
       "      <td>male</td>\n",
       "      <td>36.0</td>\n",
       "      <td>1</td>\n",
       "      <td>2</td>\n",
       "      <td>113760</td>\n",
       "      <td>120.0000</td>\n",
       "      <td>B96 B98</td>\n",
       "      <td>S</td>\n",
       "    </tr>\n",
       "    <tr>\n",
       "      <th>803</th>\n",
       "      <td>1</td>\n",
       "      <td>1</td>\n",
       "      <td>Carter, Master. William Thornton II</td>\n",
       "      <td>male</td>\n",
       "      <td>11.0</td>\n",
       "      <td>1</td>\n",
       "      <td>2</td>\n",
       "      <td>113760</td>\n",
       "      <td>120.0000</td>\n",
       "      <td>B96 B98</td>\n",
       "      <td>S</td>\n",
       "    </tr>\n",
       "    <tr>\n",
       "      <th>436</th>\n",
       "      <td>1</td>\n",
       "      <td>1</td>\n",
       "      <td>Carter, Miss. Lucile Polk</td>\n",
       "      <td>female</td>\n",
       "      <td>14.0</td>\n",
       "      <td>1</td>\n",
       "      <td>2</td>\n",
       "      <td>113760</td>\n",
       "      <td>120.0000</td>\n",
       "      <td>B96 B98</td>\n",
       "      <td>S</td>\n",
       "    </tr>\n",
       "    <tr>\n",
       "      <th>764</th>\n",
       "      <td>1</td>\n",
       "      <td>1</td>\n",
       "      <td>Carter, Mrs. William Ernest (Lucile Polk)</td>\n",
       "      <td>female</td>\n",
       "      <td>36.0</td>\n",
       "      <td>1</td>\n",
       "      <td>2</td>\n",
       "      <td>113760</td>\n",
       "      <td>120.0000</td>\n",
       "      <td>B96 B98</td>\n",
       "      <td>S</td>\n",
       "    </tr>\n",
       "    <tr>\n",
       "      <th>152</th>\n",
       "      <td>1</td>\n",
       "      <td>1</td>\n",
       "      <td>Pears, Mrs. Thomas (Edith Wearne)</td>\n",
       "      <td>female</td>\n",
       "      <td>22.0</td>\n",
       "      <td>1</td>\n",
       "      <td>0</td>\n",
       "      <td>113776</td>\n",
       "      <td>66.6000</td>\n",
       "      <td>C2</td>\n",
       "      <td>S</td>\n",
       "    </tr>\n",
       "    <tr>\n",
       "      <th>337</th>\n",
       "      <td>0</td>\n",
       "      <td>1</td>\n",
       "      <td>Pears, Mr. Thomas Clinton</td>\n",
       "      <td>male</td>\n",
       "      <td>29.0</td>\n",
       "      <td>1</td>\n",
       "      <td>0</td>\n",
       "      <td>113776</td>\n",
       "      <td>66.6000</td>\n",
       "      <td>C2</td>\n",
       "      <td>S</td>\n",
       "    </tr>\n",
       "  </tbody>\n",
       "</table>\n",
       "</div>"
      ],
      "text/plain": [
       "             Survived  Pclass  \\\n",
       "PassengerId                     \n",
       "258                 1       1   \n",
       "760                 1       1   \n",
       "505                 1       1   \n",
       "263                 0       1   \n",
       "559                 1       1   \n",
       "586                 1       1   \n",
       "111                 0       1   \n",
       "476                 0       1   \n",
       "524                 1       1   \n",
       "330                 1       1   \n",
       "167                 1       1   \n",
       "357                 1       1   \n",
       "830                 1       1   \n",
       "62                  1       1   \n",
       "391                 1       1   \n",
       "803                 1       1   \n",
       "436                 1       1   \n",
       "764                 1       1   \n",
       "152                 1       1   \n",
       "337                 0       1   \n",
       "\n",
       "                                                          Name     Sex   Age  \\\n",
       "PassengerId                                                                    \n",
       "258                                       Cherry, Miss. Gladys  female  30.0   \n",
       "760          Rothes, the Countess. of (Lucy Noel Martha Dye...  female  33.0   \n",
       "505                                      Maioni, Miss. Roberta  female  16.0   \n",
       "263                                          Taussig, Mr. Emil    male  52.0   \n",
       "559                     Taussig, Mrs. Emil (Tillie Mandelbaum)  female  39.0   \n",
       "586                                        Taussig, Miss. Ruth  female  18.0   \n",
       "111                             Porter, Mr. Walter Chamberlain    male  47.0   \n",
       "476                                Clifford, Mr. George Quincy    male   NaN   \n",
       "524            Hippach, Mrs. Louis Albert (Ida Sophia Fischer)  female  44.0   \n",
       "330                               Hippach, Miss. Jean Gertrude  female  16.0   \n",
       "167                     Chibnall, Mrs. (Edith Martha Bowerman)  female   NaN   \n",
       "357                                Bowerman, Miss. Elsie Edith  female  22.0   \n",
       "830                  Stone, Mrs. George Nelson (Martha Evelyn)  female  62.0   \n",
       "62                                         Icard, Miss. Amelie  female  38.0   \n",
       "391                                 Carter, Mr. William Ernest    male  36.0   \n",
       "803                        Carter, Master. William Thornton II    male  11.0   \n",
       "436                                  Carter, Miss. Lucile Polk  female  14.0   \n",
       "764                  Carter, Mrs. William Ernest (Lucile Polk)  female  36.0   \n",
       "152                          Pears, Mrs. Thomas (Edith Wearne)  female  22.0   \n",
       "337                                  Pears, Mr. Thomas Clinton    male  29.0   \n",
       "\n",
       "             SibSp  Parch  Ticket      Fare    Cabin Embarked  \n",
       "PassengerId                                                    \n",
       "258              0      0  110152   86.5000      B77        S  \n",
       "760              0      0  110152   86.5000      B77        S  \n",
       "505              0      0  110152   86.5000      B79        S  \n",
       "263              1      1  110413   79.6500      E67        S  \n",
       "559              1      1  110413   79.6500      E67        S  \n",
       "586              0      2  110413   79.6500      E68        S  \n",
       "111              0      0  110465   52.0000     C110        S  \n",
       "476              0      0  110465   52.0000      A14        S  \n",
       "524              0      1  111361   57.9792      B18        C  \n",
       "330              0      1  111361   57.9792      B18        C  \n",
       "167              0      1  113505   55.0000      E33        S  \n",
       "357              0      1  113505   55.0000      E33        S  \n",
       "830              0      0  113572   80.0000      B28      NaN  \n",
       "62               0      0  113572   80.0000      B28      NaN  \n",
       "391              1      2  113760  120.0000  B96 B98        S  \n",
       "803              1      2  113760  120.0000  B96 B98        S  \n",
       "436              1      2  113760  120.0000  B96 B98        S  \n",
       "764              1      2  113760  120.0000  B96 B98        S  \n",
       "152              1      0  113776   66.6000       C2        S  \n",
       "337              1      0  113776   66.6000       C2        S  "
      ]
     },
     "execution_count": 6,
     "metadata": {},
     "output_type": "execute_result"
    }
   ],
   "source": [
    "train_df[train_df.duplicated(subset=\"Ticket\",keep=False)].sort_values(\"Ticket\").head(20)"
   ]
  },
  {
   "cell_type": "markdown",
   "id": "7894a1a7",
   "metadata": {
    "papermill": {
     "duration": 0.033136,
     "end_time": "2021-09-26T14:44:05.629279",
     "exception": false,
     "start_time": "2021-09-26T14:44:05.596143",
     "status": "completed"
    },
    "tags": []
   },
   "source": [
    "- There are many duplicate ticket numbers, but each entry represents a different passenger, so we will keep them."
   ]
  },
  {
   "cell_type": "code",
   "execution_count": 7,
   "id": "63ab275c",
   "metadata": {
    "execution": {
     "iopub.execute_input": "2021-09-26T14:44:05.700366Z",
     "iopub.status.busy": "2021-09-26T14:44:05.699423Z",
     "iopub.status.idle": "2021-09-26T14:44:05.708555Z",
     "shell.execute_reply": "2021-09-26T14:44:05.709174Z",
     "shell.execute_reply.started": "2021-09-26T13:45:35.381660Z"
    },
    "papermill": {
     "duration": 0.045846,
     "end_time": "2021-09-26T14:44:05.709352",
     "exception": false,
     "start_time": "2021-09-26T14:44:05.663506",
     "status": "completed"
    },
    "tags": []
   },
   "outputs": [
    {
     "data": {
      "text/plain": [
       "Survived    0.000000\n",
       "Pclass      0.000000\n",
       "Name        0.000000\n",
       "Sex         0.000000\n",
       "Age         0.198653\n",
       "SibSp       0.000000\n",
       "Parch       0.000000\n",
       "Ticket      0.000000\n",
       "Fare        0.000000\n",
       "Cabin       0.771044\n",
       "Embarked    0.002245\n",
       "dtype: float64"
      ]
     },
     "execution_count": 7,
     "metadata": {},
     "output_type": "execute_result"
    }
   ],
   "source": [
    "#Check for missing values:\n",
    "train_df.isnull().sum()/len(train_df)"
   ]
  },
  {
   "cell_type": "markdown",
   "id": "fc639a2c",
   "metadata": {
    "papermill": {
     "duration": 0.033483,
     "end_time": "2021-09-26T14:44:05.776807",
     "exception": false,
     "start_time": "2021-09-26T14:44:05.743324",
     "status": "completed"
    },
    "tags": []
   },
   "source": [
    "- **19.86%** of the entries in the **\"Age\"** column are missing. We may try to impute them or drop the missing rows from the data\n",
    "- **77.10%** of the entries in the **\"Cabin\"** column are missing. We may drop this column from the data as it doesn't provide reliable information.\n",
    "- **0.224%** of the entries in the **\"Embarked\"** column are missing. Removing them from the data won't cause an issue."
   ]
  },
  {
   "cell_type": "code",
   "execution_count": 8,
   "id": "6bfe832c",
   "metadata": {
    "execution": {
     "iopub.execute_input": "2021-09-26T14:44:05.852710Z",
     "iopub.status.busy": "2021-09-26T14:44:05.849213Z",
     "iopub.status.idle": "2021-09-26T14:44:05.855890Z",
     "shell.execute_reply": "2021-09-26T14:44:05.855382Z",
     "shell.execute_reply.started": "2021-09-26T13:45:36.376176Z"
    },
    "papermill": {
     "duration": 0.045394,
     "end_time": "2021-09-26T14:44:05.856036",
     "exception": false,
     "start_time": "2021-09-26T14:44:05.810642",
     "status": "completed"
    },
    "tags": []
   },
   "outputs": [
    {
     "data": {
      "text/plain": [
       "PassengerId    0.000000\n",
       "Pclass         0.000000\n",
       "Name           0.000000\n",
       "Sex            0.000000\n",
       "Age            0.205742\n",
       "SibSp          0.000000\n",
       "Parch          0.000000\n",
       "Ticket         0.000000\n",
       "Fare           0.002392\n",
       "Cabin          0.782297\n",
       "Embarked       0.000000\n",
       "dtype: float64"
      ]
     },
     "execution_count": 8,
     "metadata": {},
     "output_type": "execute_result"
    }
   ],
   "source": [
    "test_df.isnull().sum()/len(test_df)"
   ]
  },
  {
   "cell_type": "markdown",
   "id": "c41647e8",
   "metadata": {
    "papermill": {
     "duration": 0.033684,
     "end_time": "2021-09-26T14:44:05.924087",
     "exception": false,
     "start_time": "2021-09-26T14:44:05.890403",
     "status": "completed"
    },
    "tags": []
   },
   "source": [
    "- Some entries are missing in the test dataset as well, so we have to find a way to deal with missing values if we decide to keep these features."
   ]
  },
  {
   "cell_type": "code",
   "execution_count": 9,
   "id": "0d83056e",
   "metadata": {
    "execution": {
     "iopub.execute_input": "2021-09-26T14:44:06.017265Z",
     "iopub.status.busy": "2021-09-26T14:44:06.016500Z",
     "iopub.status.idle": "2021-09-26T14:44:06.420025Z",
     "shell.execute_reply": "2021-09-26T14:44:06.419506Z",
     "shell.execute_reply.started": "2021-09-26T13:45:37.557996Z"
    },
    "papermill": {
     "duration": 0.461445,
     "end_time": "2021-09-26T14:44:06.420178",
     "exception": false,
     "start_time": "2021-09-26T14:44:05.958733",
     "status": "completed"
    },
    "tags": []
   },
   "outputs": [
    {
     "data": {
      "image/png": "[encoded data removed]",
      "text/plain": [
       "<Figure size 864x360 with 2 Axes>"
      ]
     },
     "metadata": {
      "needs_background": "light"
     },
     "output_type": "display_data"
    }
   ],
   "source": [
    "fig, ax = plt.subplots(1, 2, figsize=(12,5))\n",
    "train_df[\"Sex\"].value_counts().plot(kind='bar',\n",
    "                                    title= \"Gender count in the training data\",\n",
    "                                    xlabel= 'Sex',\n",
    "                                    ylabel= 'Count',\n",
    "                                    ax=ax[0])\n",
    "\n",
    "ax[1].set_title(\"Number of survivors per gender\")\n",
    "sns.countplot(data=train_df, \n",
    "              x=\"Sex\",\n",
    "              hue=\"Survived\",\n",
    "              ax=ax[1])\n",
    "\n",
    "plt.show()"
   ]
  },
  {
   "cell_type": "markdown",
   "id": "fa641a32",
   "metadata": {
    "papermill": {
     "duration": 0.035056,
     "end_time": "2021-09-26T14:44:06.490828",
     "exception": false,
     "start_time": "2021-09-26T14:44:06.455772",
     "status": "completed"
    },
    "tags": []
   },
   "source": [
    "- There's more males than females in the dataset.\n",
    "- Females survived more than males despite having a lower total count.\n",
    "- around 75% of females survived vs. only around 19% of males."
   ]
  },
  {
   "cell_type": "code",
   "execution_count": 10,
   "id": "d4013666",
   "metadata": {
    "execution": {
     "iopub.execute_input": "2021-09-26T14:44:06.573445Z",
     "iopub.status.busy": "2021-09-26T14:44:06.569273Z",
     "iopub.status.idle": "2021-09-26T14:44:07.362174Z",
     "shell.execute_reply": "2021-09-26T14:44:07.361665Z",
     "shell.execute_reply.started": "2021-09-26T13:45:40.483404Z"
    },
    "papermill": {
     "duration": 0.836106,
     "end_time": "2021-09-26T14:44:07.362323",
     "exception": false,
     "start_time": "2021-09-26T14:44:06.526217",
     "status": "completed"
    },
    "tags": []
   },
   "outputs": [
    {
     "data": {
      "image/png": "[encoded data removed]",
      "text/plain": [
       "<Figure size 771.875x360 with 2 Axes>"
      ]
     },
     "metadata": {
      "needs_background": "light"
     },
     "output_type": "display_data"
    }
   ],
   "source": [
    "sns.displot(data=train_df,\n",
    "            x=\"Age\",\n",
    "            col=\"Sex\",\n",
    "            hue=\"Survived\");"
   ]
  },
  {
   "cell_type": "markdown",
   "id": "056dfdde",
   "metadata": {
    "papermill": {
     "duration": 0.035489,
     "end_time": "2021-09-26T14:44:07.433627",
     "exception": false,
     "start_time": "2021-09-26T14:44:07.398138",
     "status": "completed"
    },
    "tags": []
   },
   "source": [
    "- Is seems like younger passengers (<10) had a higher chance of survival than older passengers."
   ]
  },
  {
   "cell_type": "code",
   "execution_count": 11,
   "id": "57eb16e4",
   "metadata": {
    "execution": {
     "iopub.execute_input": "2021-09-26T14:44:07.576799Z",
     "iopub.status.busy": "2021-09-26T14:44:07.527614Z",
     "iopub.status.idle": "2021-09-26T14:44:07.853266Z",
     "shell.execute_reply": "2021-09-26T14:44:07.851941Z",
     "shell.execute_reply.started": "2021-09-26T13:45:41.387001Z"
    },
    "papermill": {
     "duration": 0.383873,
     "end_time": "2021-09-26T14:44:07.853472",
     "exception": false,
     "start_time": "2021-09-26T14:44:07.469599",
     "status": "completed"
    },
    "tags": []
   },
   "outputs": [
    {
     "data": {
      "image/png": "[encoded data removed]",
      "text/plain": [
       "<Figure size 864x360 with 2 Axes>"
      ]
     },
     "metadata": {
      "needs_background": "light"
     },
     "output_type": "display_data"
    }
   ],
   "source": [
    "fig, ax = plt.subplots(1, 2, figsize=(12,5))\n",
    "train_df[\"Pclass\"].value_counts().plot(kind='bar',\n",
    "                                    title= \"Pclass count in the training data\",\n",
    "                                    xlabel= 'Pclass',\n",
    "                                    ylabel= 'Count',\n",
    "                                    ax=ax[0])\n",
    "\n",
    "ax[1].set_title(\"Number of survivors per Pclass\")\n",
    "sns.countplot(data=train_df, \n",
    "              x=\"Pclass\",\n",
    "              hue=\"Survived\",\n",
    "              ax=ax[1])\n",
    "\n",
    "plt.show()"
   ]
  },
  {
   "cell_type": "markdown",
   "id": "0aa7461c",
   "metadata": {
    "papermill": {
     "duration": 0.046218,
     "end_time": "2021-09-26T14:44:07.940080",
     "exception": false,
     "start_time": "2021-09-26T14:44:07.893862",
     "status": "completed"
    },
    "tags": []
   },
   "source": [
    "- Passengers in the 1st class seem to have a better chance of survival than 2nd and 3rd classes"
   ]
  },
  {
   "cell_type": "code",
   "execution_count": 12,
   "id": "3e7fc630",
   "metadata": {
    "execution": {
     "iopub.execute_input": "2021-09-26T14:44:08.032595Z",
     "iopub.status.busy": "2021-09-26T14:44:08.031472Z",
     "iopub.status.idle": "2021-09-26T14:44:08.614136Z",
     "shell.execute_reply": "2021-09-26T14:44:08.613363Z",
     "shell.execute_reply.started": "2021-09-26T13:45:42.393530Z"
    },
    "papermill": {
     "duration": 0.628972,
     "end_time": "2021-09-26T14:44:08.614287",
     "exception": false,
     "start_time": "2021-09-26T14:44:07.985315",
     "status": "completed"
    },
    "tags": []
   },
   "outputs": [
    {
     "data": {
      "image/png": "[encoded data removed]",
      "text/plain": [
       "<Figure size 411.875x360 with 1 Axes>"
      ]
     },
     "metadata": {
      "needs_background": "light"
     },
     "output_type": "display_data"
    }
   ],
   "source": [
    "ax = sns.catplot(kind=\"point\",\n",
    "                 data=train_df,\n",
    "                 x=\"Pclass\", \n",
    "                 y=\"Fare\",\n",
    "                 hue=\"Survived\")\n",
    "ax.fig.suptitle('Fare per Pclass')\n",
    "plt.show()"
   ]
  },
  {
   "cell_type": "code",
   "execution_count": 13,
   "id": "d680e702",
   "metadata": {
    "execution": {
     "iopub.execute_input": "2021-09-26T14:44:08.695031Z",
     "iopub.status.busy": "2021-09-26T14:44:08.694068Z",
     "iopub.status.idle": "2021-09-26T14:44:09.154278Z",
     "shell.execute_reply": "2021-09-26T14:44:09.153621Z",
     "shell.execute_reply.started": "2021-09-26T14:19:05.342218Z"
    },
    "papermill": {
     "duration": 0.501395,
     "end_time": "2021-09-26T14:44:09.154428",
     "exception": false,
     "start_time": "2021-09-26T14:44:08.653033",
     "status": "completed"
    },
    "tags": []
   },
   "outputs": [
    {
     "data": {
      "image/png": "[encoded data removed]",
      "text/plain": [
       "<Figure size 1296x360 with 3 Axes>"
      ]
     },
     "metadata": {
      "needs_background": "light"
     },
     "output_type": "display_data"
    }
   ],
   "source": [
    "fig, ax = plt.subplots(1, 3, figsize=(18,5))\n",
    "train_df[\"Embarked\"].value_counts().plot(kind='bar',\n",
    "                                         title= \"Embarked count in the training data\",\n",
    "                                         xlabel= 'Embarked',\n",
    "                                         ylabel= 'Count',\n",
    "                                         ax=ax[0])\n",
    "\n",
    "ax[1].set_title(\"Number of male survivors per Embarked\")\n",
    "sns.countplot(data=train_df[train_df[\"Sex\"]==\"male\"], \n",
    "              x=\"Embarked\",\n",
    "              hue=\"Survived\",\n",
    "              ax=ax[1])\n",
    "\n",
    "ax[2].set_title(\"Number of female survivors per Embarked\")\n",
    "sns.countplot(data=train_df[train_df[\"Sex\"]==\"female\"], \n",
    "              x=\"Embarked\",\n",
    "              hue=\"Survived\",\n",
    "              ax=ax[2])\n",
    "\n",
    "plt.show()"
   ]
  },
  {
   "cell_type": "markdown",
   "id": "a9f3357f",
   "metadata": {
    "papermill": {
     "duration": 0.038813,
     "end_time": "2021-09-26T14:44:09.233190",
     "exception": false,
     "start_time": "2021-09-26T14:44:09.194377",
     "status": "completed"
    },
    "tags": []
   },
   "source": [
    "- most males embarked in Queenstown didnot survive.\n",
    "- passengers embarking in Cherbourg had higher survival rate than Queenstown and Southampton."
   ]
  },
  {
   "cell_type": "code",
   "execution_count": 14,
   "id": "2ce945c1",
   "metadata": {
    "execution": {
     "iopub.execute_input": "2021-09-26T14:44:09.336469Z",
     "iopub.status.busy": "2021-09-26T14:44:09.318562Z",
     "iopub.status.idle": "2021-09-26T14:44:09.724149Z",
     "shell.execute_reply": "2021-09-26T14:44:09.723201Z",
     "shell.execute_reply.started": "2021-09-26T13:45:43.573491Z"
    },
    "papermill": {
     "duration": 0.45215,
     "end_time": "2021-09-26T14:44:09.724292",
     "exception": false,
     "start_time": "2021-09-26T14:44:09.272142",
     "status": "completed"
    },
    "tags": []
   },
   "outputs": [
    {
     "data": {
      "image/png": "[encoded data removed]",
      "text/plain": [
       "<Figure size 432x288 with 2 Axes>"
      ]
     },
     "metadata": {
      "needs_background": "light"
     },
     "output_type": "display_data"
    }
   ],
   "source": [
    "sns.heatmap(train_df.corr(),annot = True, cmap = 'viridis_r', fmt = '.2f');"
   ]
  },
  {
   "cell_type": "markdown",
   "id": "54a28a09",
   "metadata": {
    "papermill": {
     "duration": 0.041097,
     "end_time": "2021-09-26T14:44:09.805590",
     "exception": false,
     "start_time": "2021-09-26T14:44:09.764493",
     "status": "completed"
    },
    "tags": []
   },
   "source": [
    "## **Preprocessing**"
   ]
  },
  {
   "cell_type": "markdown",
   "id": "c6a6407f",
   "metadata": {
    "papermill": {
     "duration": 0.039847,
     "end_time": "2021-09-26T14:44:09.886036",
     "exception": false,
     "start_time": "2021-09-26T14:44:09.846189",
     "status": "completed"
    },
    "tags": []
   },
   "source": [
    "#### Drop null values in \"Embarked\""
   ]
  },
  {
   "cell_type": "code",
   "execution_count": 15,
   "id": "9cbd5122",
   "metadata": {
    "execution": {
     "iopub.execute_input": "2021-09-26T14:44:09.982826Z",
     "iopub.status.busy": "2021-09-26T14:44:09.982164Z",
     "iopub.status.idle": "2021-09-26T14:44:09.985396Z",
     "shell.execute_reply": "2021-09-26T14:44:09.985859Z",
     "shell.execute_reply.started": "2021-09-26T14:24:37.901836Z"
    },
    "papermill": {
     "duration": 0.059493,
     "end_time": "2021-09-26T14:44:09.986036",
     "exception": false,
     "start_time": "2021-09-26T14:44:09.926543",
     "status": "completed"
    },
    "tags": []
   },
   "outputs": [
    {
     "name": "stdout",
     "output_type": "stream",
     "text": [
      "<class 'pandas.core.frame.DataFrame'>\n",
      "Int64Index: 889 entries, 1 to 891\n",
      "Data columns (total 11 columns):\n",
      " #   Column    Non-Null Count  Dtype  \n",
      "---  ------    --------------  -----  \n",
      " 0   Survived  889 non-null    int64  \n",
      " 1   Pclass    889 non-null    int64  \n",
      " 2   Name      889 non-null    object \n",
      " 3   Sex       889 non-null    object \n",
      " 4   Age       712 non-null    float64\n",
      " 5   SibSp     889 non-null    int64  \n",
      " 6   Parch     889 non-null    int64  \n",
      " 7   Ticket    889 non-null    object \n",
      " 8   Fare      889 non-null    float64\n",
      " 9   Cabin     202 non-null    object \n",
      " 10  Embarked  889 non-null    object \n",
      "dtypes: float64(2), int64(4), object(5)\n",
      "memory usage: 83.3+ KB\n"
     ]
    }
   ],
   "source": [
    "train_df.dropna(subset=[\"Embarked\"], inplace=True)\n",
    "train_df.info()"
   ]
  },
  {
   "cell_type": "markdown",
   "id": "fa5bdc8d",
   "metadata": {
    "papermill": {
     "duration": 0.040824,
     "end_time": "2021-09-26T14:44:10.067836",
     "exception": false,
     "start_time": "2021-09-26T14:44:10.027012",
     "status": "completed"
    },
    "tags": []
   },
   "source": [
    "#### Encode \"Sex\" and \"Embarked\" features"
   ]
  },
  {
   "cell_type": "code",
   "execution_count": 16,
   "id": "6ef3ab78",
   "metadata": {
    "execution": {
     "iopub.execute_input": "2021-09-26T14:44:10.155000Z",
     "iopub.status.busy": "2021-09-26T14:44:10.154375Z",
     "iopub.status.idle": "2021-09-26T14:44:10.177272Z",
     "shell.execute_reply": "2021-09-26T14:44:10.177752Z",
     "shell.execute_reply.started": "2021-09-26T14:24:40.951816Z"
    },
    "papermill": {
     "duration": 0.068419,
     "end_time": "2021-09-26T14:44:10.177919",
     "exception": false,
     "start_time": "2021-09-26T14:44:10.109500",
     "status": "completed"
    },
    "tags": []
   },
   "outputs": [
    {
     "data": {
      "text/html": [
       "<div>\n",
       "<style scoped>\n",
       "    .dataframe tbody tr th:only-of-type {\n",
       "        vertical-align: middle;\n",
       "    }\n",
       "\n",
       "    .dataframe tbody tr th {\n",
       "        vertical-align: top;\n",
       "    }\n",
       "\n",
       "    .dataframe thead th {\n",
       "        text-align: right;\n",
       "    }\n",
       "</style>\n",
       "<table border=\"1\" class=\"dataframe\">\n",
       "  <thead>\n",
       "    <tr style=\"text-align: right;\">\n",
       "      <th></th>\n",
       "      <th>Survived</th>\n",
       "      <th>Pclass</th>\n",
       "      <th>Name</th>\n",
       "      <th>Sex</th>\n",
       "      <th>Age</th>\n",
       "      <th>SibSp</th>\n",
       "      <th>Parch</th>\n",
       "      <th>Ticket</th>\n",
       "      <th>Fare</th>\n",
       "      <th>Cabin</th>\n",
       "      <th>Embarked</th>\n",
       "      <th>Embarked_Q</th>\n",
       "      <th>Embarked_S</th>\n",
       "    </tr>\n",
       "    <tr>\n",
       "      <th>PassengerId</th>\n",
       "      <th></th>\n",
       "      <th></th>\n",
       "      <th></th>\n",
       "      <th></th>\n",
       "      <th></th>\n",
       "      <th></th>\n",
       "      <th></th>\n",
       "      <th></th>\n",
       "      <th></th>\n",
       "      <th></th>\n",
       "      <th></th>\n",
       "      <th></th>\n",
       "      <th></th>\n",
       "    </tr>\n",
       "  </thead>\n",
       "  <tbody>\n",
       "    <tr>\n",
       "      <th>1</th>\n",
       "      <td>0</td>\n",
       "      <td>3</td>\n",
       "      <td>Braund, Mr. Owen Harris</td>\n",
       "      <td>1</td>\n",
       "      <td>22.0</td>\n",
       "      <td>1</td>\n",
       "      <td>0</td>\n",
       "      <td>A/5 21171</td>\n",
       "      <td>7.2500</td>\n",
       "      <td>NaN</td>\n",
       "      <td>S</td>\n",
       "      <td>0</td>\n",
       "      <td>1</td>\n",
       "    </tr>\n",
       "    <tr>\n",
       "      <th>2</th>\n",
       "      <td>1</td>\n",
       "      <td>1</td>\n",
       "      <td>Cumings, Mrs. John Bradley (Florence Briggs Th...</td>\n",
       "      <td>0</td>\n",
       "      <td>38.0</td>\n",
       "      <td>1</td>\n",
       "      <td>0</td>\n",
       "      <td>PC 17599</td>\n",
       "      <td>71.2833</td>\n",
       "      <td>C85</td>\n",
       "      <td>C</td>\n",
       "      <td>0</td>\n",
       "      <td>0</td>\n",
       "    </tr>\n",
       "    <tr>\n",
       "      <th>3</th>\n",
       "      <td>1</td>\n",
       "      <td>3</td>\n",
       "      <td>Heikkinen, Miss. Laina</td>\n",
       "      <td>0</td>\n",
       "      <td>26.0</td>\n",
       "      <td>0</td>\n",
       "      <td>0</td>\n",
       "      <td>STON/O2. 3101282</td>\n",
       "      <td>7.9250</td>\n",
       "      <td>NaN</td>\n",
       "      <td>S</td>\n",
       "      <td>0</td>\n",
       "      <td>1</td>\n",
       "    </tr>\n",
       "    <tr>\n",
       "      <th>4</th>\n",
       "      <td>1</td>\n",
       "      <td>1</td>\n",
       "      <td>Futrelle, Mrs. Jacques Heath (Lily May Peel)</td>\n",
       "      <td>0</td>\n",
       "      <td>35.0</td>\n",
       "      <td>1</td>\n",
       "      <td>0</td>\n",
       "      <td>113803</td>\n",
       "      <td>53.1000</td>\n",
       "      <td>C123</td>\n",
       "      <td>S</td>\n",
       "      <td>0</td>\n",
       "      <td>1</td>\n",
       "    </tr>\n",
       "    <tr>\n",
       "      <th>5</th>\n",
       "      <td>0</td>\n",
       "      <td>3</td>\n",
       "      <td>Allen, Mr. William Henry</td>\n",
       "      <td>1</td>\n",
       "      <td>35.0</td>\n",
       "      <td>0</td>\n",
       "      <td>0</td>\n",
       "      <td>373450</td>\n",
       "      <td>8.0500</td>\n",
       "      <td>NaN</td>\n",
       "      <td>S</td>\n",
       "      <td>0</td>\n",
       "      <td>1</td>\n",
       "    </tr>\n",
       "  </tbody>\n",
       "</table>\n",
       "</div>"
      ],
      "text/plain": [
       "             Survived  Pclass  \\\n",
       "PassengerId                     \n",
       "1                   0       3   \n",
       "2                   1       1   \n",
       "3                   1       3   \n",
       "4                   1       1   \n",
       "5                   0       3   \n",
       "\n",
       "                                                          Name  Sex   Age  \\\n",
       "PassengerId                                                                 \n",
       "1                                      Braund, Mr. Owen Harris    1  22.0   \n",
       "2            Cumings, Mrs. John Bradley (Florence Briggs Th...    0  38.0   \n",
       "3                                       Heikkinen, Miss. Laina    0  26.0   \n",
       "4                 Futrelle, Mrs. Jacques Heath (Lily May Peel)    0  35.0   \n",
       "5                                     Allen, Mr. William Henry    1  35.0   \n",
       "\n",
       "             SibSp  Parch            Ticket     Fare Cabin Embarked  \\\n",
       "PassengerId                                                           \n",
       "1                1      0         A/5 21171   7.2500   NaN        S   \n",
       "2                1      0          PC 17599  71.2833   C85        C   \n",
       "3                0      0  STON/O2. 3101282   7.9250   NaN        S   \n",
       "4                1      0            113803  53.1000  C123        S   \n",
       "5                0      0            373450   8.0500   NaN        S   \n",
       "\n",
       "             Embarked_Q  Embarked_S  \n",
       "PassengerId                          \n",
       "1                     0           1  \n",
       "2                     0           0  \n",
       "3                     0           1  \n",
       "4                     0           1  \n",
       "5                     0           1  "
      ]
     },
     "execution_count": 16,
     "metadata": {},
     "output_type": "execute_result"
    }
   ],
   "source": [
    "for df in [train_df, test_df]:\n",
    "    df[\"Sex\"] = df[\"Sex\"].map({\"male\":1, \"female\":0, 1:1, 0:0})\n",
    "    \n",
    "    # Use onehotencoder method on \"Embarked\":\n",
    "    df[['Embarked_Q', 'Embarked_S']] = pd.get_dummies(df[\"Embarked\"], drop_first=True)\n",
    "    \n",
    "train_df.head()"
   ]
  },
  {
   "cell_type": "markdown",
   "id": "795b012b",
   "metadata": {
    "papermill": {
     "duration": 0.040936,
     "end_time": "2021-09-26T14:44:10.260226",
     "exception": false,
     "start_time": "2021-09-26T14:44:10.219290",
     "status": "completed"
    },
    "tags": []
   },
   "source": [
    "#### Add \"travelled_alone\" feature that determines whether a passenger is travelling alone or with family"
   ]
  },
  {
   "cell_type": "code",
   "execution_count": 17,
   "id": "01d87920",
   "metadata": {
    "execution": {
     "iopub.execute_input": "2021-09-26T14:44:10.346716Z",
     "iopub.status.busy": "2021-09-26T14:44:10.346055Z",
     "iopub.status.idle": "2021-09-26T14:44:10.369254Z",
     "shell.execute_reply": "2021-09-26T14:44:10.369698Z",
     "shell.execute_reply.started": "2021-09-26T14:24:43.569747Z"
    },
    "papermill": {
     "duration": 0.068079,
     "end_time": "2021-09-26T14:44:10.369867",
     "exception": false,
     "start_time": "2021-09-26T14:44:10.301788",
     "status": "completed"
    },
    "tags": []
   },
   "outputs": [
    {
     "data": {
      "text/html": [
       "<div>\n",
       "<style scoped>\n",
       "    .dataframe tbody tr th:only-of-type {\n",
       "        vertical-align: middle;\n",
       "    }\n",
       "\n",
       "    .dataframe tbody tr th {\n",
       "        vertical-align: top;\n",
       "    }\n",
       "\n",
       "    .dataframe thead th {\n",
       "        text-align: right;\n",
       "    }\n",
       "</style>\n",
       "<table border=\"1\" class=\"dataframe\">\n",
       "  <thead>\n",
       "    <tr style=\"text-align: right;\">\n",
       "      <th></th>\n",
       "      <th>Survived</th>\n",
       "      <th>Pclass</th>\n",
       "      <th>Name</th>\n",
       "      <th>Sex</th>\n",
       "      <th>Age</th>\n",
       "      <th>SibSp</th>\n",
       "      <th>Parch</th>\n",
       "      <th>Ticket</th>\n",
       "      <th>Fare</th>\n",
       "      <th>Cabin</th>\n",
       "      <th>Embarked</th>\n",
       "      <th>Embarked_Q</th>\n",
       "      <th>Embarked_S</th>\n",
       "      <th>relatives</th>\n",
       "      <th>travelled_alone</th>\n",
       "    </tr>\n",
       "    <tr>\n",
       "      <th>PassengerId</th>\n",
       "      <th></th>\n",
       "      <th></th>\n",
       "      <th></th>\n",
       "      <th></th>\n",
       "      <th></th>\n",
       "      <th></th>\n",
       "      <th></th>\n",
       "      <th></th>\n",
       "      <th></th>\n",
       "      <th></th>\n",
       "      <th></th>\n",
       "      <th></th>\n",
       "      <th></th>\n",
       "      <th></th>\n",
       "      <th></th>\n",
       "    </tr>\n",
       "  </thead>\n",
       "  <tbody>\n",
       "    <tr>\n",
       "      <th>1</th>\n",
       "      <td>0</td>\n",
       "      <td>3</td>\n",
       "      <td>Braund, Mr. Owen Harris</td>\n",
       "      <td>1</td>\n",
       "      <td>22.0</td>\n",
       "      <td>1</td>\n",
       "      <td>0</td>\n",
       "      <td>A/5 21171</td>\n",
       "      <td>7.2500</td>\n",
       "      <td>NaN</td>\n",
       "      <td>S</td>\n",
       "      <td>0</td>\n",
       "      <td>1</td>\n",
       "      <td>1</td>\n",
       "      <td>0.0</td>\n",
       "    </tr>\n",
       "    <tr>\n",
       "      <th>2</th>\n",
       "      <td>1</td>\n",
       "      <td>1</td>\n",
       "      <td>Cumings, Mrs. John Bradley (Florence Briggs Th...</td>\n",
       "      <td>0</td>\n",
       "      <td>38.0</td>\n",
       "      <td>1</td>\n",
       "      <td>0</td>\n",
       "      <td>PC 17599</td>\n",
       "      <td>71.2833</td>\n",
       "      <td>C85</td>\n",
       "      <td>C</td>\n",
       "      <td>0</td>\n",
       "      <td>0</td>\n",
       "      <td>1</td>\n",
       "      <td>0.0</td>\n",
       "    </tr>\n",
       "    <tr>\n",
       "      <th>3</th>\n",
       "      <td>1</td>\n",
       "      <td>3</td>\n",
       "      <td>Heikkinen, Miss. Laina</td>\n",
       "      <td>0</td>\n",
       "      <td>26.0</td>\n",
       "      <td>0</td>\n",
       "      <td>0</td>\n",
       "      <td>STON/O2. 3101282</td>\n",
       "      <td>7.9250</td>\n",
       "      <td>NaN</td>\n",
       "      <td>S</td>\n",
       "      <td>0</td>\n",
       "      <td>1</td>\n",
       "      <td>0</td>\n",
       "      <td>1.0</td>\n",
       "    </tr>\n",
       "    <tr>\n",
       "      <th>4</th>\n",
       "      <td>1</td>\n",
       "      <td>1</td>\n",
       "      <td>Futrelle, Mrs. Jacques Heath (Lily May Peel)</td>\n",
       "      <td>0</td>\n",
       "      <td>35.0</td>\n",
       "      <td>1</td>\n",
       "      <td>0</td>\n",
       "      <td>113803</td>\n",
       "      <td>53.1000</td>\n",
       "      <td>C123</td>\n",
       "      <td>S</td>\n",
       "      <td>0</td>\n",
       "      <td>1</td>\n",
       "      <td>1</td>\n",
       "      <td>0.0</td>\n",
       "    </tr>\n",
       "    <tr>\n",
       "      <th>5</th>\n",
       "      <td>0</td>\n",
       "      <td>3</td>\n",
       "      <td>Allen, Mr. William Henry</td>\n",
       "      <td>1</td>\n",
       "      <td>35.0</td>\n",
       "      <td>0</td>\n",
       "      <td>0</td>\n",
       "      <td>373450</td>\n",
       "      <td>8.0500</td>\n",
       "      <td>NaN</td>\n",
       "      <td>S</td>\n",
       "      <td>0</td>\n",
       "      <td>1</td>\n",
       "      <td>0</td>\n",
       "      <td>1.0</td>\n",
       "    </tr>\n",
       "  </tbody>\n",
       "</table>\n",
       "</div>"
      ],
      "text/plain": [
       "             Survived  Pclass  \\\n",
       "PassengerId                     \n",
       "1                   0       3   \n",
       "2                   1       1   \n",
       "3                   1       3   \n",
       "4                   1       1   \n",
       "5                   0       3   \n",
       "\n",
       "                                                          Name  Sex   Age  \\\n",
       "PassengerId                                                                 \n",
       "1                                      Braund, Mr. Owen Harris    1  22.0   \n",
       "2            Cumings, Mrs. John Bradley (Florence Briggs Th...    0  38.0   \n",
       "3                                       Heikkinen, Miss. Laina    0  26.0   \n",
       "4                 Futrelle, Mrs. Jacques Heath (Lily May Peel)    0  35.0   \n",
       "5                                     Allen, Mr. William Henry    1  35.0   \n",
       "\n",
       "             SibSp  Parch            Ticket     Fare Cabin Embarked  \\\n",
       "PassengerId                                                           \n",
       "1                1      0         A/5 21171   7.2500   NaN        S   \n",
       "2                1      0          PC 17599  71.2833   C85        C   \n",
       "3                0      0  STON/O2. 3101282   7.9250   NaN        S   \n",
       "4                1      0            113803  53.1000  C123        S   \n",
       "5                0      0            373450   8.0500   NaN        S   \n",
       "\n",
       "             Embarked_Q  Embarked_S  relatives  travelled_alone  \n",
       "PassengerId                                                      \n",
       "1                     0           1          1              0.0  \n",
       "2                     0           0          1              0.0  \n",
       "3                     0           1          0              1.0  \n",
       "4                     0           1          1              0.0  \n",
       "5                     0           1          0              1.0  "
      ]
     },
     "execution_count": 17,
     "metadata": {},
     "output_type": "execute_result"
    }
   ],
   "source": [
    "for df in [train_df, test_df]:\n",
    "    df['relatives'] = df['SibSp'] + df['Parch'] # Total number of relatives.\n",
    "    \n",
    "    df.loc[df['relatives'] > 0, 'travelled_alone'] = 0\n",
    "    df.loc[df['relatives'] == 0, 'travelled_alone'] = 1\n",
    "    \n",
    "train_df.head()"
   ]
  },
  {
   "cell_type": "markdown",
   "id": "9796cb90",
   "metadata": {
    "papermill": {
     "duration": 0.041612,
     "end_time": "2021-09-26T14:44:10.453327",
     "exception": false,
     "start_time": "2021-09-26T14:44:10.411715",
     "status": "completed"
    },
    "tags": []
   },
   "source": [
    "#### Split training data into training and validation sets"
   ]
  },
  {
   "cell_type": "code",
   "execution_count": 18,
   "id": "6937fa2a",
   "metadata": {
    "execution": {
     "iopub.execute_input": "2021-09-26T14:44:10.540800Z",
     "iopub.status.busy": "2021-09-26T14:44:10.540161Z",
     "iopub.status.idle": "2021-09-26T14:44:10.563445Z",
     "shell.execute_reply": "2021-09-26T14:44:10.562891Z",
     "shell.execute_reply.started": "2021-09-26T14:24:52.008712Z"
    },
    "papermill": {
     "duration": 0.068179,
     "end_time": "2021-09-26T14:44:10.563587",
     "exception": false,
     "start_time": "2021-09-26T14:44:10.495408",
     "status": "completed"
    },
    "tags": []
   },
   "outputs": [
    {
     "data": {
      "text/html": [
       "<div>\n",
       "<style scoped>\n",
       "    .dataframe tbody tr th:only-of-type {\n",
       "        vertical-align: middle;\n",
       "    }\n",
       "\n",
       "    .dataframe tbody tr th {\n",
       "        vertical-align: top;\n",
       "    }\n",
       "\n",
       "    .dataframe thead th {\n",
       "        text-align: right;\n",
       "    }\n",
       "</style>\n",
       "<table border=\"1\" class=\"dataframe\">\n",
       "  <thead>\n",
       "    <tr style=\"text-align: right;\">\n",
       "      <th></th>\n",
       "      <th>Pclass</th>\n",
       "      <th>Sex</th>\n",
       "      <th>Age</th>\n",
       "      <th>SibSp</th>\n",
       "      <th>Parch</th>\n",
       "      <th>Fare</th>\n",
       "      <th>Embarked_Q</th>\n",
       "      <th>Embarked_S</th>\n",
       "      <th>travelled_alone</th>\n",
       "    </tr>\n",
       "    <tr>\n",
       "      <th>PassengerId</th>\n",
       "      <th></th>\n",
       "      <th></th>\n",
       "      <th></th>\n",
       "      <th></th>\n",
       "      <th></th>\n",
       "      <th></th>\n",
       "      <th></th>\n",
       "      <th></th>\n",
       "      <th></th>\n",
       "    </tr>\n",
       "  </thead>\n",
       "  <tbody>\n",
       "    <tr>\n",
       "      <th>891</th>\n",
       "      <td>3</td>\n",
       "      <td>1</td>\n",
       "      <td>32.0</td>\n",
       "      <td>0</td>\n",
       "      <td>0</td>\n",
       "      <td>7.7500</td>\n",
       "      <td>1</td>\n",
       "      <td>0</td>\n",
       "      <td>1.0</td>\n",
       "    </tr>\n",
       "    <tr>\n",
       "      <th>787</th>\n",
       "      <td>3</td>\n",
       "      <td>0</td>\n",
       "      <td>18.0</td>\n",
       "      <td>0</td>\n",
       "      <td>0</td>\n",
       "      <td>7.4958</td>\n",
       "      <td>0</td>\n",
       "      <td>1</td>\n",
       "      <td>1.0</td>\n",
       "    </tr>\n",
       "    <tr>\n",
       "      <th>837</th>\n",
       "      <td>3</td>\n",
       "      <td>1</td>\n",
       "      <td>21.0</td>\n",
       "      <td>0</td>\n",
       "      <td>0</td>\n",
       "      <td>8.6625</td>\n",
       "      <td>0</td>\n",
       "      <td>1</td>\n",
       "      <td>1.0</td>\n",
       "    </tr>\n",
       "    <tr>\n",
       "      <th>377</th>\n",
       "      <td>3</td>\n",
       "      <td>0</td>\n",
       "      <td>22.0</td>\n",
       "      <td>0</td>\n",
       "      <td>0</td>\n",
       "      <td>7.2500</td>\n",
       "      <td>0</td>\n",
       "      <td>1</td>\n",
       "      <td>1.0</td>\n",
       "    </tr>\n",
       "    <tr>\n",
       "      <th>23</th>\n",
       "      <td>3</td>\n",
       "      <td>0</td>\n",
       "      <td>15.0</td>\n",
       "      <td>0</td>\n",
       "      <td>0</td>\n",
       "      <td>8.0292</td>\n",
       "      <td>1</td>\n",
       "      <td>0</td>\n",
       "      <td>1.0</td>\n",
       "    </tr>\n",
       "  </tbody>\n",
       "</table>\n",
       "</div>"
      ],
      "text/plain": [
       "             Pclass  Sex   Age  SibSp  Parch    Fare  Embarked_Q  Embarked_S  \\\n",
       "PassengerId                                                                    \n",
       "891               3    1  32.0      0      0  7.7500           1           0   \n",
       "787               3    0  18.0      0      0  7.4958           0           1   \n",
       "837               3    1  21.0      0      0  8.6625           0           1   \n",
       "377               3    0  22.0      0      0  7.2500           0           1   \n",
       "23                3    0  15.0      0      0  8.0292           1           0   \n",
       "\n",
       "             travelled_alone  \n",
       "PassengerId                   \n",
       "891                      1.0  \n",
       "787                      1.0  \n",
       "837                      1.0  \n",
       "377                      1.0  \n",
       "23                       1.0  "
      ]
     },
     "execution_count": 18,
     "metadata": {},
     "output_type": "execute_result"
    }
   ],
   "source": [
    "selected_features=[\"Pclass\", \"Sex\", \"Age\", \"SibSp\", \"Parch\",\"Fare\", \"Embarked_Q\", \"Embarked_S\", \"travelled_alone\"]\n",
    "\n",
    "X_train, X_val, y_train, y_val = train_test_split(train_df[selected_features],\n",
    "                                                  train_df[\"Survived\"],\n",
    "                                                  test_size = 0.1,\n",
    "                                                  stratify = train_df[\"Survived\"],\n",
    "                                                  random_state=0)\n",
    "\n",
    "X_test = test_df[selected_features]\n",
    "\n",
    "X_train.head()"
   ]
  },
  {
   "cell_type": "markdown",
   "id": "09042e31",
   "metadata": {
    "papermill": {
     "duration": 0.042312,
     "end_time": "2021-09-26T14:44:10.648317",
     "exception": false,
     "start_time": "2021-09-26T14:44:10.606005",
     "status": "completed"
    },
    "tags": []
   },
   "source": [
    "#### Fill null values in every feature with its mean"
   ]
  },
  {
   "cell_type": "code",
   "execution_count": 19,
   "id": "56e149a5",
   "metadata": {
    "execution": {
     "iopub.execute_input": "2021-09-26T14:44:10.742582Z",
     "iopub.status.busy": "2021-09-26T14:44:10.741543Z",
     "iopub.status.idle": "2021-09-26T14:44:10.759431Z",
     "shell.execute_reply": "2021-09-26T14:44:10.758776Z",
     "shell.execute_reply.started": "2021-09-26T14:24:59.465940Z"
    },
    "papermill": {
     "duration": 0.068348,
     "end_time": "2021-09-26T14:44:10.759569",
     "exception": false,
     "start_time": "2021-09-26T14:44:10.691221",
     "status": "completed"
    },
    "tags": []
   },
   "outputs": [
    {
     "name": "stdout",
     "output_type": "stream",
     "text": [
      "<class 'pandas.core.frame.DataFrame'>\n",
      "Int64Index: 800 entries, 891 to 81\n",
      "Data columns (total 9 columns):\n",
      " #   Column           Non-Null Count  Dtype  \n",
      "---  ------           --------------  -----  \n",
      " 0   Pclass           800 non-null    int64  \n",
      " 1   Sex              800 non-null    int64  \n",
      " 2   Age              800 non-null    float64\n",
      " 3   SibSp            800 non-null    int64  \n",
      " 4   Parch            800 non-null    int64  \n",
      " 5   Fare             800 non-null    float64\n",
      " 6   Embarked_Q       800 non-null    uint8  \n",
      " 7   Embarked_S       800 non-null    uint8  \n",
      " 8   travelled_alone  800 non-null    float64\n",
      "dtypes: float64(3), int64(4), uint8(2)\n",
      "memory usage: 51.6 KB\n"
     ]
    }
   ],
   "source": [
    "for df in [X_train, X_val, X_test]:\n",
    "    df.fillna(X_train.mean(), inplace=True)\n",
    "    \n",
    "X_train.info()"
   ]
  },
  {
   "cell_type": "markdown",
   "id": "8dcf161b",
   "metadata": {
    "papermill": {
     "duration": 0.042803,
     "end_time": "2021-09-26T14:44:10.844987",
     "exception": false,
     "start_time": "2021-09-26T14:44:10.802184",
     "status": "completed"
    },
    "tags": []
   },
   "source": [
    "#### Normalize \"Age\" and \"Fare\" features"
   ]
  },
  {
   "cell_type": "code",
   "execution_count": 20,
   "id": "cba21d09",
   "metadata": {
    "execution": {
     "iopub.execute_input": "2021-09-26T14:44:10.939389Z",
     "iopub.status.busy": "2021-09-26T14:44:10.938331Z",
     "iopub.status.idle": "2021-09-26T14:44:10.980554Z",
     "shell.execute_reply": "2021-09-26T14:44:10.979905Z",
     "shell.execute_reply.started": "2021-09-26T14:25:06.450949Z"
    },
    "papermill": {
     "duration": 0.092633,
     "end_time": "2021-09-26T14:44:10.980693",
     "exception": false,
     "start_time": "2021-09-26T14:44:10.888060",
     "status": "completed"
    },
    "tags": []
   },
   "outputs": [
    {
     "data": {
      "text/html": [
       "<div>\n",
       "<style scoped>\n",
       "    .dataframe tbody tr th:only-of-type {\n",
       "        vertical-align: middle;\n",
       "    }\n",
       "\n",
       "    .dataframe tbody tr th {\n",
       "        vertical-align: top;\n",
       "    }\n",
       "\n",
       "    .dataframe thead th {\n",
       "        text-align: right;\n",
       "    }\n",
       "</style>\n",
       "<table border=\"1\" class=\"dataframe\">\n",
       "  <thead>\n",
       "    <tr style=\"text-align: right;\">\n",
       "      <th></th>\n",
       "      <th>Pclass</th>\n",
       "      <th>Sex</th>\n",
       "      <th>Age</th>\n",
       "      <th>SibSp</th>\n",
       "      <th>Parch</th>\n",
       "      <th>Fare</th>\n",
       "      <th>Embarked_Q</th>\n",
       "      <th>Embarked_S</th>\n",
       "      <th>travelled_alone</th>\n",
       "    </tr>\n",
       "  </thead>\n",
       "  <tbody>\n",
       "    <tr>\n",
       "      <th>count</th>\n",
       "      <td>800.000000</td>\n",
       "      <td>800.000000</td>\n",
       "      <td>8.000000e+02</td>\n",
       "      <td>800.000000</td>\n",
       "      <td>800.000000</td>\n",
       "      <td>8.000000e+02</td>\n",
       "      <td>800.000000</td>\n",
       "      <td>800.000000</td>\n",
       "      <td>800.000000</td>\n",
       "    </tr>\n",
       "    <tr>\n",
       "      <th>mean</th>\n",
       "      <td>2.322500</td>\n",
       "      <td>0.652500</td>\n",
       "      <td>7.951972e-17</td>\n",
       "      <td>0.533750</td>\n",
       "      <td>0.385000</td>\n",
       "      <td>9.284240e-17</td>\n",
       "      <td>0.082500</td>\n",
       "      <td>0.735000</td>\n",
       "      <td>0.597500</td>\n",
       "    </tr>\n",
       "    <tr>\n",
       "      <th>std</th>\n",
       "      <td>0.830274</td>\n",
       "      <td>0.476474</td>\n",
       "      <td>1.000626e+00</td>\n",
       "      <td>1.105843</td>\n",
       "      <td>0.798481</td>\n",
       "      <td>1.000626e+00</td>\n",
       "      <td>0.275297</td>\n",
       "      <td>0.441609</td>\n",
       "      <td>0.490708</td>\n",
       "    </tr>\n",
       "    <tr>\n",
       "      <th>min</th>\n",
       "      <td>1.000000</td>\n",
       "      <td>0.000000</td>\n",
       "      <td>-2.251260e+00</td>\n",
       "      <td>0.000000</td>\n",
       "      <td>0.000000</td>\n",
       "      <td>-6.388750e-01</td>\n",
       "      <td>0.000000</td>\n",
       "      <td>0.000000</td>\n",
       "      <td>0.000000</td>\n",
       "    </tr>\n",
       "    <tr>\n",
       "      <th>25%</th>\n",
       "      <td>2.000000</td>\n",
       "      <td>0.000000</td>\n",
       "      <td>-5.669518e-01</td>\n",
       "      <td>0.000000</td>\n",
       "      <td>0.000000</td>\n",
       "      <td>-4.793452e-01</td>\n",
       "      <td>0.000000</td>\n",
       "      <td>0.000000</td>\n",
       "      <td>0.000000</td>\n",
       "    </tr>\n",
       "    <tr>\n",
       "      <th>50%</th>\n",
       "      <td>3.000000</td>\n",
       "      <td>1.000000</td>\n",
       "      <td>0.000000e+00</td>\n",
       "      <td>0.000000</td>\n",
       "      <td>0.000000</td>\n",
       "      <td>-3.479127e-01</td>\n",
       "      <td>0.000000</td>\n",
       "      <td>1.000000</td>\n",
       "      <td>1.000000</td>\n",
       "    </tr>\n",
       "    <tr>\n",
       "      <th>75%</th>\n",
       "      <td>3.000000</td>\n",
       "      <td>1.000000</td>\n",
       "      <td>4.476917e-01</td>\n",
       "      <td>1.000000</td>\n",
       "      <td>0.000000</td>\n",
       "      <td>-2.491153e-02</td>\n",
       "      <td>0.000000</td>\n",
       "      <td>1.000000</td>\n",
       "      <td>1.000000</td>\n",
       "    </tr>\n",
       "    <tr>\n",
       "      <th>max</th>\n",
       "      <td>3.000000</td>\n",
       "      <td>1.000000</td>\n",
       "      <td>3.491622e+00</td>\n",
       "      <td>8.000000</td>\n",
       "      <td>6.000000</td>\n",
       "      <td>9.674286e+00</td>\n",
       "      <td>1.000000</td>\n",
       "      <td>1.000000</td>\n",
       "      <td>1.000000</td>\n",
       "    </tr>\n",
       "  </tbody>\n",
       "</table>\n",
       "</div>"
      ],
      "text/plain": [
       "           Pclass         Sex           Age       SibSp       Parch  \\\n",
       "count  800.000000  800.000000  8.000000e+02  800.000000  800.000000   \n",
       "mean     2.322500    0.652500  7.951972e-17    0.533750    0.385000   \n",
       "std      0.830274    0.476474  1.000626e+00    1.105843    0.798481   \n",
       "min      1.000000    0.000000 -2.251260e+00    0.000000    0.000000   \n",
       "25%      2.000000    0.000000 -5.669518e-01    0.000000    0.000000   \n",
       "50%      3.000000    1.000000  0.000000e+00    0.000000    0.000000   \n",
       "75%      3.000000    1.000000  4.476917e-01    1.000000    0.000000   \n",
       "max      3.000000    1.000000  3.491622e+00    8.000000    6.000000   \n",
       "\n",
       "               Fare  Embarked_Q  Embarked_S  travelled_alone  \n",
       "count  8.000000e+02  800.000000  800.000000       800.000000  \n",
       "mean   9.284240e-17    0.082500    0.735000         0.597500  \n",
       "std    1.000626e+00    0.275297    0.441609         0.490708  \n",
       "min   -6.388750e-01    0.000000    0.000000         0.000000  \n",
       "25%   -4.793452e-01    0.000000    0.000000         0.000000  \n",
       "50%   -3.479127e-01    0.000000    1.000000         1.000000  \n",
       "75%   -2.491153e-02    0.000000    1.000000         1.000000  \n",
       "max    9.674286e+00    1.000000    1.000000         1.000000  "
      ]
     },
     "execution_count": 20,
     "metadata": {},
     "output_type": "execute_result"
    }
   ],
   "source": [
    "sc = StandardScaler()\n",
    "scaled_features = [\"Age\", \"Fare\"]\n",
    "\n",
    "sc.fit(X_train[scaled_features])\n",
    "\n",
    "for df in [X_train, X_val, X_test]:\n",
    "    df[scaled_features] = sc.transform(df[scaled_features])\n",
    "    \n",
    "X_train.describe()"
   ]
  },
  {
   "cell_type": "markdown",
   "id": "f290dee0",
   "metadata": {
    "papermill": {
     "duration": 0.043863,
     "end_time": "2021-09-26T14:44:11.068454",
     "exception": false,
     "start_time": "2021-09-26T14:44:11.024591",
     "status": "completed"
    },
    "tags": []
   },
   "source": [
    "## **Model Testing**"
   ]
  },
  {
   "cell_type": "markdown",
   "id": "c4f789cd",
   "metadata": {
    "papermill": {
     "duration": 0.04364,
     "end_time": "2021-09-26T14:44:11.156222",
     "exception": false,
     "start_time": "2021-09-26T14:44:11.112582",
     "status": "completed"
    },
    "tags": []
   },
   "source": [
    "#### Evaluation Functions"
   ]
  },
  {
   "cell_type": "code",
   "execution_count": 21,
   "id": "65496800",
   "metadata": {
    "execution": {
     "iopub.execute_input": "2021-09-26T14:44:11.254030Z",
     "iopub.status.busy": "2021-09-26T14:44:11.253380Z",
     "iopub.status.idle": "2021-09-26T14:44:11.255687Z",
     "shell.execute_reply": "2021-09-26T14:44:11.255135Z",
     "shell.execute_reply.started": "2021-09-26T14:29:40.279440Z"
    },
    "papermill": {
     "duration": 0.056307,
     "end_time": "2021-09-26T14:44:11.255816",
     "exception": false,
     "start_time": "2021-09-26T14:44:11.199509",
     "status": "completed"
    },
    "tags": []
   },
   "outputs": [],
   "source": [
    "#Estimate model performance:\n",
    "def estimate_model(model, X_train, y_train, X_val, y_val):\n",
    "    y_pred_train = model.predict(X_train)\n",
    "    y_pred_val = model.predict(X_val)\n",
    "    \n",
    "    print(f\"  Training set Accuracy   = {model.score(X_train, y_train):.4%}\\n  Validation set Accuracy = {model.score(X_val, y_val):.4%}\\n\")\n",
    "    print(\"  Validation set Classification Report:\")\n",
    "    print(classification_report(y_val, y_pred_val, digits=4))\n",
    "    \n",
    "    fig, ax = plt.subplots(1, 2, figsize = (15, 5))\n",
    "    ax[0].set_title(\"Training Set Confusion Matrix\")\n",
    "    plot_confusion_matrix(model, X_train, y_train, ax=ax[0], \n",
    "                          cmap=\"cividis\", xticks_rotation=\"vertical\")\n",
    "    \n",
    "    ax[1].set_title(\"Validation Set Confusion Matrix\")\n",
    "    plot_confusion_matrix(model, X_val, y_val, ax=ax[1],\n",
    "                          cmap=\"cividis\", xticks_rotation=\"vertical\")\n",
    "    \n",
    "    \n",
    "#View the most predictive features from any tree-based model:\n",
    "def feature_importance(model):\n",
    "    importance = pd.DataFrame(model.feature_importances_, index= X_train.columns).sort_values(0)\n",
    "    importance.plot(kind='barh', title=\"Feature Importance\"), plt.show()\n",
    "    \n",
    "    \n",
    "def coss_val(model,X,y,cv=10):\n",
    "    scores=cross_val_score(model, X, y, cv=cv)\n",
    "    print(\"Cross Validation:\\n  %0.5f accuracy with a standard deviation of %0.5f \\n\" % (scores.mean(), scores.std()))"
   ]
  },
  {
   "cell_type": "code",
   "execution_count": 22,
   "id": "3cb73ac3",
   "metadata": {
    "execution": {
     "iopub.execute_input": "2021-09-26T14:44:11.350196Z",
     "iopub.status.busy": "2021-09-26T14:44:11.344626Z",
     "iopub.status.idle": "2021-09-26T14:44:11.855841Z",
     "shell.execute_reply": "2021-09-26T14:44:11.856324Z",
     "shell.execute_reply.started": "2021-09-26T14:25:12.530168Z"
    },
    "papermill": {
     "duration": 0.557845,
     "end_time": "2021-09-26T14:44:11.856532",
     "exception": false,
     "start_time": "2021-09-26T14:44:11.298687",
     "status": "completed"
    },
    "tags": []
   },
   "outputs": [
    {
     "name": "stdout",
     "output_type": "stream",
     "text": [
      "\u001b[1mSupport Vector Classifier:\u001b[0m\n",
      "  Training set Accuracy   = 84.2500%\n",
      "  Validation set Accuracy = 84.2697%\n",
      "\n",
      "  Validation set Classification Report:\n",
      "              precision    recall  f1-score   support\n",
      "\n",
      "           0     0.8475    0.9091    0.8772        55\n",
      "           1     0.8333    0.7353    0.7812        34\n",
      "\n",
      "    accuracy                         0.8427        89\n",
      "   macro avg     0.8404    0.8222    0.8292        89\n",
      "weighted avg     0.8421    0.8427    0.8405        89\n",
      "\n"
     ]
    },
    {
     "data": {
      "image/png": "[encoded data removed]",
      "text/plain": [
       "<Figure size 1080x360 with 4 Axes>"
      ]
     },
     "metadata": {
      "needs_background": "light"
     },
     "output_type": "display_data"
    }
   ],
   "source": [
    "print(\"\\033[1mSupport Vector Classifier:\\033[0m\")\n",
    "model = SVC(C=11,\n",
    "            kernel=\"rbf\",\n",
    "            gamma=\"scale\",\n",
    "            break_ties=True,\n",
    "            random_state=0)\n",
    "\n",
    "\n",
    "model.fit(X_train, y_train)\n",
    "estimate_model(model, X_train, y_train, X_val, y_val)"
   ]
  },
  {
   "cell_type": "code",
   "execution_count": 23,
   "id": "ab3c4f8c",
   "metadata": {
    "execution": {
     "iopub.execute_input": "2021-09-26T14:44:11.954848Z",
     "iopub.status.busy": "2021-09-26T14:44:11.950043Z",
     "iopub.status.idle": "2021-09-26T14:44:13.114939Z",
     "shell.execute_reply": "2021-09-26T14:44:13.114262Z",
     "shell.execute_reply.started": "2021-09-26T14:25:23.196975Z"
    },
    "papermill": {
     "duration": 1.213266,
     "end_time": "2021-09-26T14:44:13.115083",
     "exception": false,
     "start_time": "2021-09-26T14:44:11.901817",
     "status": "completed"
    },
    "tags": []
   },
   "outputs": [
    {
     "name": "stdout",
     "output_type": "stream",
     "text": [
      "\u001b[1mK-Nearest Neighbour Classifier:\u001b[0m\n",
      "  Training set Accuracy   = 85.5000%\n",
      "  Validation set Accuracy = 84.2697%\n",
      "\n",
      "  Validation set Classification Report:\n",
      "              precision    recall  f1-score   support\n",
      "\n",
      "           0     0.9020    0.8364    0.8679        55\n",
      "           1     0.7632    0.8529    0.8056        34\n",
      "\n",
      "    accuracy                         0.8427        89\n",
      "   macro avg     0.8326    0.8447    0.8367        89\n",
      "weighted avg     0.8489    0.8427    0.8441        89\n",
      "\n"
     ]
    },
    {
     "data": {
      "image/png": "[encoded data removed]",
      "text/plain": [
       "<Figure size 1080x360 with 4 Axes>"
      ]
     },
     "metadata": {
      "needs_background": "light"
     },
     "output_type": "display_data"
    }
   ],
   "source": [
    "print(\"\\033[1mK-Nearest Neighbour Classifier:\\033[0m\")\n",
    "model = KNeighborsClassifier(n_neighbors=5,\n",
    "                             p=3,\n",
    "                             weights=\"uniform\",\n",
    "                             metric=\"minkowski\",\n",
    "                             n_jobs=-1)\n",
    "\n",
    "model.fit(X_train, y_train)\n",
    "estimate_model(model, X_train, y_train, X_val, y_val)"
   ]
  },
  {
   "cell_type": "code",
   "execution_count": 24,
   "id": "cde5d360",
   "metadata": {
    "execution": {
     "iopub.execute_input": "2021-09-26T14:44:13.212390Z",
     "iopub.status.busy": "2021-09-26T14:44:13.211748Z",
     "iopub.status.idle": "2021-09-26T14:44:18.878848Z",
     "shell.execute_reply": "2021-09-26T14:44:18.878360Z",
     "shell.execute_reply.started": "2021-09-26T14:29:44.862243Z"
    },
    "papermill": {
     "duration": 5.717658,
     "end_time": "2021-09-26T14:44:18.878985",
     "exception": false,
     "start_time": "2021-09-26T14:44:13.161327",
     "status": "completed"
    },
    "tags": []
   },
   "outputs": [
    {
     "name": "stdout",
     "output_type": "stream",
     "text": [
      "\u001b[1mRandom Forest Classifier:\u001b[0m\n",
      "Cross Validation:\n",
      "  0.82125 accuracy with a standard deviation of 0.02257 \n",
      "\n",
      "  Training set Accuracy   = 85.7500%\n",
      "  Validation set Accuracy = 85.3933%\n",
      "\n",
      "  Validation set Classification Report:\n",
      "              precision    recall  f1-score   support\n",
      "\n",
      "           0     0.8500    0.9273    0.8870        55\n",
      "           1     0.8621    0.7353    0.7937        34\n",
      "\n",
      "    accuracy                         0.8539        89\n",
      "   macro avg     0.8560    0.8313    0.8403        89\n",
      "weighted avg     0.8546    0.8539    0.8513        89\n",
      "\n"
     ]
    },
    {
     "data": {
      "image/png": "[encoded data removed]",
      "text/plain": [
       "<Figure size 1080x360 with 4 Axes>"
      ]
     },
     "metadata": {
      "needs_background": "light"
     },
     "output_type": "display_data"
    },
    {
     "data": {
      "image/png": "[encoded data removed]",
      "text/plain": [
       "<Figure size 432x288 with 1 Axes>"
      ]
     },
     "metadata": {
      "needs_background": "light"
     },
     "output_type": "display_data"
    }
   ],
   "source": [
    "print(\"\\033[1mRandom Forest Classifier:\\033[0m\")\n",
    "model = RandomForestClassifier(n_estimators=100,\n",
    "                               criterion=\"entropy\",\n",
    "                               max_depth=6,\n",
    "                               min_samples_split=4,\n",
    "                               bootstrap=True,\n",
    "                               max_samples=0.8,\n",
    "                               oob_score=True,\n",
    "                               n_jobs=-1,\n",
    "                               random_state=0)\n",
    "\n",
    "model.fit(X_train, y_train)\n",
    "coss_val(model,X_train, y_train, cv=5)\n",
    "estimate_model(model, X_train, y_train, X_val, y_val)\n",
    "feature_importance(model)"
   ]
  },
  {
   "cell_type": "markdown",
   "id": "4d8ec929",
   "metadata": {
    "papermill": {
     "duration": 0.0486,
     "end_time": "2021-09-26T14:44:18.976370",
     "exception": false,
     "start_time": "2021-09-26T14:44:18.927770",
     "status": "completed"
    },
    "tags": []
   },
   "source": [
    "- Random Forest Seems to perform better than SVM and KNN, so we'll use it to predict the survivor in the test set."
   ]
  },
  {
   "cell_type": "markdown",
   "id": "59cef1a8",
   "metadata": {
    "papermill": {
     "duration": 0.048245,
     "end_time": "2021-09-26T14:44:19.075683",
     "exception": false,
     "start_time": "2021-09-26T14:44:19.027438",
     "status": "completed"
    },
    "tags": []
   },
   "source": [
    "## **Test Data predictions**"
   ]
  },
  {
   "cell_type": "code",
   "execution_count": 25,
   "id": "502b2f18",
   "metadata": {
    "execution": {
     "iopub.execute_input": "2021-09-26T14:44:19.181801Z",
     "iopub.status.busy": "2021-09-26T14:44:19.181156Z",
     "iopub.status.idle": "2021-09-26T14:44:19.296451Z",
     "shell.execute_reply": "2021-09-26T14:44:19.295793Z",
     "shell.execute_reply.started": "2021-09-26T14:33:29.481539Z"
    },
    "papermill": {
     "duration": 0.171956,
     "end_time": "2021-09-26T14:44:19.296600",
     "exception": false,
     "start_time": "2021-09-26T14:44:19.124644",
     "status": "completed"
    },
    "tags": []
   },
   "outputs": [
    {
     "data": {
      "text/html": [
       "<div>\n",
       "<style scoped>\n",
       "    .dataframe tbody tr th:only-of-type {\n",
       "        vertical-align: middle;\n",
       "    }\n",
       "\n",
       "    .dataframe tbody tr th {\n",
       "        vertical-align: top;\n",
       "    }\n",
       "\n",
       "    .dataframe thead th {\n",
       "        text-align: right;\n",
       "    }\n",
       "</style>\n",
       "<table border=\"1\" class=\"dataframe\">\n",
       "  <thead>\n",
       "    <tr style=\"text-align: right;\">\n",
       "      <th></th>\n",
       "      <th>PassengerId</th>\n",
       "      <th>Survived</th>\n",
       "    </tr>\n",
       "  </thead>\n",
       "  <tbody>\n",
       "    <tr>\n",
       "      <th>0</th>\n",
       "      <td>892</td>\n",
       "      <td>0</td>\n",
       "    </tr>\n",
       "    <tr>\n",
       "      <th>1</th>\n",
       "      <td>893</td>\n",
       "      <td>0</td>\n",
       "    </tr>\n",
       "    <tr>\n",
       "      <th>2</th>\n",
       "      <td>894</td>\n",
       "      <td>0</td>\n",
       "    </tr>\n",
       "    <tr>\n",
       "      <th>3</th>\n",
       "      <td>895</td>\n",
       "      <td>0</td>\n",
       "    </tr>\n",
       "    <tr>\n",
       "      <th>4</th>\n",
       "      <td>896</td>\n",
       "      <td>0</td>\n",
       "    </tr>\n",
       "    <tr>\n",
       "      <th>...</th>\n",
       "      <td>...</td>\n",
       "      <td>...</td>\n",
       "    </tr>\n",
       "    <tr>\n",
       "      <th>413</th>\n",
       "      <td>1305</td>\n",
       "      <td>0</td>\n",
       "    </tr>\n",
       "    <tr>\n",
       "      <th>414</th>\n",
       "      <td>1306</td>\n",
       "      <td>1</td>\n",
       "    </tr>\n",
       "    <tr>\n",
       "      <th>415</th>\n",
       "      <td>1307</td>\n",
       "      <td>0</td>\n",
       "    </tr>\n",
       "    <tr>\n",
       "      <th>416</th>\n",
       "      <td>1308</td>\n",
       "      <td>0</td>\n",
       "    </tr>\n",
       "    <tr>\n",
       "      <th>417</th>\n",
       "      <td>1309</td>\n",
       "      <td>0</td>\n",
       "    </tr>\n",
       "  </tbody>\n",
       "</table>\n",
       "<p>418 rows × 2 columns</p>\n",
       "</div>"
      ],
      "text/plain": [
       "     PassengerId  Survived\n",
       "0            892         0\n",
       "1            893         0\n",
       "2            894         0\n",
       "3            895         0\n",
       "4            896         0\n",
       "..           ...       ...\n",
       "413         1305         0\n",
       "414         1306         1\n",
       "415         1307         0\n",
       "416         1308         0\n",
       "417         1309         0\n",
       "\n",
       "[418 rows x 2 columns]"
      ]
     },
     "execution_count": 25,
     "metadata": {},
     "output_type": "execute_result"
    }
   ],
   "source": [
    "test_df[\"Survived\"] = model.predict(X_test)\n",
    "submission = test_df[[\"PassengerId\", \"Survived\"]]\n",
    "submission"
   ]
  },
  {
   "cell_type": "code",
   "execution_count": 26,
   "id": "c4093957",
   "metadata": {
    "execution": {
     "iopub.execute_input": "2021-09-26T14:44:19.402810Z",
     "iopub.status.busy": "2021-09-26T14:44:19.401837Z",
     "iopub.status.idle": "2021-09-26T14:44:19.407986Z",
     "shell.execute_reply": "2021-09-26T14:44:19.407469Z"
    },
    "papermill": {
     "duration": 0.06168,
     "end_time": "2021-09-26T14:44:19.408167",
     "exception": false,
     "start_time": "2021-09-26T14:44:19.346487",
     "status": "completed"
    },
    "tags": []
   },
   "outputs": [],
   "source": [
    "submission.to_csv('submission.csv', index=False)"
   ]
  }
 ],
 "metadata": {
  "kernelspec": {
   "display_name": "Python 3",
   "language": "python",
   "name": "python3"
  },
  "language_info": {
   "codemirror_mode": {
    "name": "ipython",
    "version": 3
   },
   "file_extension": ".py",
   "mimetype": "text/x-python",
   "name": "python",
   "nbconvert_exporter": "python",
   "pygments_lexer": "ipython3",
   "version": "3.7.10"
  },
  "papermill": {
   "default_parameters": {},
   "duration": 24.582629,
   "end_time": "2021-09-26T14:44:20.168576",
   "environment_variables": {},
   "exception": null,
   "input_path": "__notebook__.ipynb",
   "output_path": "__notebook__.ipynb",
   "parameters": {},
   "start_time": "2021-09-26T14:43:55.585947",
   "version": "2.3.3"
  }
 },
 "nbformat": 4,
 "nbformat_minor": 5
}
